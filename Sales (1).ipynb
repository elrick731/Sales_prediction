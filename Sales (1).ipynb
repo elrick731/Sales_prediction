{
  "nbformat": 4,
  "nbformat_minor": 0,
  "metadata": {
    "colab": {
      "name": "Sales.ipynb",
      "provenance": [],
      "collapsed_sections": []
    },
    "kernelspec": {
      "display_name": "Python 3",
      "name": "python3"
    }
  },
  "cells": [
    {
      "cell_type": "code",
      "metadata": {
        "id": "1M0bldEqAF0T",
        "colab": {
          "base_uri": "https://localhost:8080/",
          "height": 593
        },
        "outputId": "dafa19b3-72b5-4072-9ea4-74a4d2af253d"
      },
      "source": [
        "############################################################################### Etude Cas:Analyse et prédiction des Ventes ###########################################################################\r\n",
        "#Auteur: BIAO AFOLABY ELRICK SULLIVAN\r\n",
        "#Elrick731@gmail.com\r\n",
        "#781174533\r\n",
        "############################################################################################################################################################################################\r\n",
        "import pandas as pd\r\n",
        "import numpy as np\r\n",
        "import matplotlib.pyplot as plt\r\n",
        "import seaborn as sb\r\n",
        "\r\n",
        "from sklearn.preprocessing import StandardScaler\r\n",
        "sc=StandardScaler()\r\n",
        "import os as sys\r\n",
        "########################################################################################################################################################\r\n",
        "test=pd.read_csv('/content/drive/MyDrive/test.csv')\r\n",
        "train=pd.read_csv('/content/drive/MyDrive/train.csv')\r\n",
        "pd.concat([test,train])\r\n",
        "\r\n",
        "\r\n",
        "\r\n"
      ],
      "execution_count": 260,
      "outputs": [
        {
          "output_type": "execute_result",
          "data": {
            "text/html": [
              "<div>\n",
              "<style scoped>\n",
              "    .dataframe tbody tr th:only-of-type {\n",
              "        vertical-align: middle;\n",
              "    }\n",
              "\n",
              "    .dataframe tbody tr th {\n",
              "        vertical-align: top;\n",
              "    }\n",
              "\n",
              "    .dataframe thead th {\n",
              "        text-align: right;\n",
              "    }\n",
              "</style>\n",
              "<table border=\"1\" class=\"dataframe\">\n",
              "  <thead>\n",
              "    <tr style=\"text-align: right;\">\n",
              "      <th></th>\n",
              "      <th>Id</th>\n",
              "      <th>Store</th>\n",
              "      <th>DayOfWeek</th>\n",
              "      <th>Date</th>\n",
              "      <th>Open</th>\n",
              "      <th>Promo</th>\n",
              "      <th>StateHoliday</th>\n",
              "      <th>SchoolHoliday</th>\n",
              "      <th>Sales</th>\n",
              "      <th>Customers</th>\n",
              "    </tr>\n",
              "  </thead>\n",
              "  <tbody>\n",
              "    <tr>\n",
              "      <th>0</th>\n",
              "      <td>1.0</td>\n",
              "      <td>1</td>\n",
              "      <td>4</td>\n",
              "      <td>2015-09-17</td>\n",
              "      <td>1.0</td>\n",
              "      <td>1.0</td>\n",
              "      <td>0</td>\n",
              "      <td>0.0</td>\n",
              "      <td>NaN</td>\n",
              "      <td>NaN</td>\n",
              "    </tr>\n",
              "    <tr>\n",
              "      <th>1</th>\n",
              "      <td>2.0</td>\n",
              "      <td>3</td>\n",
              "      <td>4</td>\n",
              "      <td>2015-09-17</td>\n",
              "      <td>1.0</td>\n",
              "      <td>1.0</td>\n",
              "      <td>0</td>\n",
              "      <td>0.0</td>\n",
              "      <td>NaN</td>\n",
              "      <td>NaN</td>\n",
              "    </tr>\n",
              "    <tr>\n",
              "      <th>2</th>\n",
              "      <td>3.0</td>\n",
              "      <td>7</td>\n",
              "      <td>4</td>\n",
              "      <td>2015-09-17</td>\n",
              "      <td>1.0</td>\n",
              "      <td>1.0</td>\n",
              "      <td>0</td>\n",
              "      <td>0.0</td>\n",
              "      <td>NaN</td>\n",
              "      <td>NaN</td>\n",
              "    </tr>\n",
              "    <tr>\n",
              "      <th>3</th>\n",
              "      <td>4.0</td>\n",
              "      <td>8</td>\n",
              "      <td>4</td>\n",
              "      <td>2015-09-17</td>\n",
              "      <td>1.0</td>\n",
              "      <td>1.0</td>\n",
              "      <td>0</td>\n",
              "      <td>0.0</td>\n",
              "      <td>NaN</td>\n",
              "      <td>NaN</td>\n",
              "    </tr>\n",
              "    <tr>\n",
              "      <th>4</th>\n",
              "      <td>5.0</td>\n",
              "      <td>9</td>\n",
              "      <td>4</td>\n",
              "      <td>2015-09-17</td>\n",
              "      <td>1.0</td>\n",
              "      <td>1.0</td>\n",
              "      <td>0</td>\n",
              "      <td>0.0</td>\n",
              "      <td>NaN</td>\n",
              "      <td>NaN</td>\n",
              "    </tr>\n",
              "    <tr>\n",
              "      <th>...</th>\n",
              "      <td>...</td>\n",
              "      <td>...</td>\n",
              "      <td>...</td>\n",
              "      <td>...</td>\n",
              "      <td>...</td>\n",
              "      <td>...</td>\n",
              "      <td>...</td>\n",
              "      <td>...</td>\n",
              "      <td>...</td>\n",
              "      <td>...</td>\n",
              "    </tr>\n",
              "    <tr>\n",
              "      <th>112099</th>\n",
              "      <td>NaN</td>\n",
              "      <td>600</td>\n",
              "      <td>3</td>\n",
              "      <td>2015-04-22</td>\n",
              "      <td>1.0</td>\n",
              "      <td>0.0</td>\n",
              "      <td>0</td>\n",
              "      <td>0.0</td>\n",
              "      <td>5246.0</td>\n",
              "      <td>504.0</td>\n",
              "    </tr>\n",
              "    <tr>\n",
              "      <th>112100</th>\n",
              "      <td>NaN</td>\n",
              "      <td>601</td>\n",
              "      <td>3</td>\n",
              "      <td>2015-04-22</td>\n",
              "      <td>1.0</td>\n",
              "      <td>0.0</td>\n",
              "      <td>0</td>\n",
              "      <td>0.0</td>\n",
              "      <td>3615.0</td>\n",
              "      <td>303.0</td>\n",
              "    </tr>\n",
              "    <tr>\n",
              "      <th>112101</th>\n",
              "      <td>NaN</td>\n",
              "      <td>602</td>\n",
              "      <td>3</td>\n",
              "      <td>2015-04-22</td>\n",
              "      <td>1.0</td>\n",
              "      <td>0.0</td>\n",
              "      <td>0</td>\n",
              "      <td>0.0</td>\n",
              "      <td>5174.0</td>\n",
              "      <td>547.0</td>\n",
              "    </tr>\n",
              "    <tr>\n",
              "      <th>112102</th>\n",
              "      <td>NaN</td>\n",
              "      <td>603</td>\n",
              "      <td>3</td>\n",
              "      <td>2015-04-22</td>\n",
              "      <td>1.0</td>\n",
              "      <td>0.0</td>\n",
              "      <td>0</td>\n",
              "      <td>0.0</td>\n",
              "      <td>5479.0</td>\n",
              "      <td>937.0</td>\n",
              "    </tr>\n",
              "    <tr>\n",
              "      <th>112103</th>\n",
              "      <td>NaN</td>\n",
              "      <td>604</td>\n",
              "      <td>3</td>\n",
              "      <td>2015-04-</td>\n",
              "      <td>NaN</td>\n",
              "      <td>NaN</td>\n",
              "      <td>NaN</td>\n",
              "      <td>NaN</td>\n",
              "      <td>NaN</td>\n",
              "      <td>NaN</td>\n",
              "    </tr>\n",
              "  </tbody>\n",
              "</table>\n",
              "<p>153192 rows × 10 columns</p>\n",
              "</div>"
            ],
            "text/plain": [
              "         Id  Store  DayOfWeek  ... SchoolHoliday   Sales  Customers\n",
              "0       1.0      1          4  ...           0.0     NaN        NaN\n",
              "1       2.0      3          4  ...           0.0     NaN        NaN\n",
              "2       3.0      7          4  ...           0.0     NaN        NaN\n",
              "3       4.0      8          4  ...           0.0     NaN        NaN\n",
              "4       5.0      9          4  ...           0.0     NaN        NaN\n",
              "...     ...    ...        ...  ...           ...     ...        ...\n",
              "112099  NaN    600          3  ...           0.0  5246.0      504.0\n",
              "112100  NaN    601          3  ...           0.0  3615.0      303.0\n",
              "112101  NaN    602          3  ...           0.0  5174.0      547.0\n",
              "112102  NaN    603          3  ...           0.0  5479.0      937.0\n",
              "112103  NaN    604          3  ...           NaN     NaN        NaN\n",
              "\n",
              "[153192 rows x 10 columns]"
            ]
          },
          "metadata": {
            "tags": []
          },
          "execution_count": 260
        }
      ]
    },
    {
      "cell_type": "code",
      "metadata": {
        "id": "yB1cgGSHBNbG"
      },
      "source": [
        "############################################################################################################################################################################################\r\n",
        "\r\n",
        "############################################################   Data Analyse And Data Mining ###############################################################################\r\n",
        "# Nous allons analyser nos données,les explorer en profondeur , et les rendre plus utilisables avant de les faire passer dans nos modèles de deep et Machine learning"
      ],
      "execution_count": 5,
      "outputs": []
    },
    {
      "cell_type": "code",
      "metadata": {
        "colab": {
          "base_uri": "https://localhost:8080/"
        },
        "id": "0QN2h-irCXnu",
        "outputId": "fb521f74-4085-44ea-944a-b0c9fb1a55df"
      },
      "source": [
        "############################################################################################################################################################################################\r\n",
        "#Les ventes(Notre target) sont estimés en $\r\n",
        "train[\"Sales\"].value_counts().unique()"
      ],
      "execution_count": 6,
      "outputs": [
        {
          "output_type": "execute_result",
          "data": {
            "text/plain": [
              "array([15235,  4111,    32,    31,    29,    28,    27,    26,    25,\n",
              "          24,    23,    22,    21,    20,    19,    18,    17,    16,\n",
              "          15,    14,    13,    12,    11,    10,     9,     8,     7,\n",
              "           6,     5,     4,     3,     2,     1])"
            ]
          },
          "metadata": {
            "tags": []
          },
          "execution_count": 6
        }
      ]
    },
    {
      "cell_type": "code",
      "metadata": {
        "colab": {
          "base_uri": "https://localhost:8080/"
        },
        "id": "b43rEXwMFODJ",
        "outputId": "f9064ff9-9e6a-4be3-cbc5-016ad40dbc63"
      },
      "source": [
        "train.dtypes.value_counts()\r\n",
        "#Nous avons 7 variables continues et 2 variables catégorielles"
      ],
      "execution_count": 7,
      "outputs": [
        {
          "output_type": "execute_result",
          "data": {
            "text/plain": [
              "float64    5\n",
              "int64      2\n",
              "object     2\n",
              "dtype: int64"
            ]
          },
          "metadata": {
            "tags": []
          },
          "execution_count": 7
        }
      ]
    },
    {
      "cell_type": "code",
      "metadata": {
        "colab": {
          "base_uri": "https://localhost:8080/"
        },
        "id": "M66CPi0WFh9t",
        "outputId": "b56df85c-d4ff-47cb-8b53-cd5179e113ac"
      },
      "source": [
        "train.info()"
      ],
      "execution_count": 8,
      "outputs": [
        {
          "output_type": "stream",
          "text": [
            "<class 'pandas.core.frame.DataFrame'>\n",
            "RangeIndex: 112104 entries, 0 to 112103\n",
            "Data columns (total 9 columns):\n",
            " #   Column         Non-Null Count   Dtype  \n",
            "---  ------         --------------   -----  \n",
            " 0   Store          112104 non-null  int64  \n",
            " 1   DayOfWeek      112104 non-null  int64  \n",
            " 2   Date           112104 non-null  object \n",
            " 3   Sales          112103 non-null  float64\n",
            " 4   Customers      112103 non-null  float64\n",
            " 5   Open           112103 non-null  float64\n",
            " 6   Promo          112103 non-null  float64\n",
            " 7   StateHoliday   112103 non-null  object \n",
            " 8   SchoolHoliday  112103 non-null  float64\n",
            "dtypes: float64(5), int64(2), object(2)\n",
            "memory usage: 7.7+ MB\n"
          ],
          "name": "stdout"
        }
      ]
    },
    {
      "cell_type": "code",
      "metadata": {
        "colab": {
          "base_uri": "https://localhost:8080/",
          "height": 593
        },
        "id": "8gqv3qsfGFAV",
        "outputId": "e60993f8-d354-425a-81a8-f112ad458374"
      },
      "source": [
        "train"
      ],
      "execution_count": 9,
      "outputs": [
        {
          "output_type": "execute_result",
          "data": {
            "text/html": [
              "<div>\n",
              "<style scoped>\n",
              "    .dataframe tbody tr th:only-of-type {\n",
              "        vertical-align: middle;\n",
              "    }\n",
              "\n",
              "    .dataframe tbody tr th {\n",
              "        vertical-align: top;\n",
              "    }\n",
              "\n",
              "    .dataframe thead th {\n",
              "        text-align: right;\n",
              "    }\n",
              "</style>\n",
              "<table border=\"1\" class=\"dataframe\">\n",
              "  <thead>\n",
              "    <tr style=\"text-align: right;\">\n",
              "      <th></th>\n",
              "      <th>Store</th>\n",
              "      <th>DayOfWeek</th>\n",
              "      <th>Date</th>\n",
              "      <th>Sales</th>\n",
              "      <th>Customers</th>\n",
              "      <th>Open</th>\n",
              "      <th>Promo</th>\n",
              "      <th>StateHoliday</th>\n",
              "      <th>SchoolHoliday</th>\n",
              "    </tr>\n",
              "  </thead>\n",
              "  <tbody>\n",
              "    <tr>\n",
              "      <th>0</th>\n",
              "      <td>1</td>\n",
              "      <td>5</td>\n",
              "      <td>2015-07-31</td>\n",
              "      <td>5263.0</td>\n",
              "      <td>555.0</td>\n",
              "      <td>1.0</td>\n",
              "      <td>1.0</td>\n",
              "      <td>0</td>\n",
              "      <td>1.0</td>\n",
              "    </tr>\n",
              "    <tr>\n",
              "      <th>1</th>\n",
              "      <td>2</td>\n",
              "      <td>5</td>\n",
              "      <td>2015-07-31</td>\n",
              "      <td>6064.0</td>\n",
              "      <td>625.0</td>\n",
              "      <td>1.0</td>\n",
              "      <td>1.0</td>\n",
              "      <td>0</td>\n",
              "      <td>1.0</td>\n",
              "    </tr>\n",
              "    <tr>\n",
              "      <th>2</th>\n",
              "      <td>3</td>\n",
              "      <td>5</td>\n",
              "      <td>2015-07-31</td>\n",
              "      <td>8314.0</td>\n",
              "      <td>821.0</td>\n",
              "      <td>1.0</td>\n",
              "      <td>1.0</td>\n",
              "      <td>0</td>\n",
              "      <td>1.0</td>\n",
              "    </tr>\n",
              "    <tr>\n",
              "      <th>3</th>\n",
              "      <td>4</td>\n",
              "      <td>5</td>\n",
              "      <td>2015-07-31</td>\n",
              "      <td>13995.0</td>\n",
              "      <td>1498.0</td>\n",
              "      <td>1.0</td>\n",
              "      <td>1.0</td>\n",
              "      <td>0</td>\n",
              "      <td>1.0</td>\n",
              "    </tr>\n",
              "    <tr>\n",
              "      <th>4</th>\n",
              "      <td>5</td>\n",
              "      <td>5</td>\n",
              "      <td>2015-07-31</td>\n",
              "      <td>4822.0</td>\n",
              "      <td>559.0</td>\n",
              "      <td>1.0</td>\n",
              "      <td>1.0</td>\n",
              "      <td>0</td>\n",
              "      <td>1.0</td>\n",
              "    </tr>\n",
              "    <tr>\n",
              "      <th>...</th>\n",
              "      <td>...</td>\n",
              "      <td>...</td>\n",
              "      <td>...</td>\n",
              "      <td>...</td>\n",
              "      <td>...</td>\n",
              "      <td>...</td>\n",
              "      <td>...</td>\n",
              "      <td>...</td>\n",
              "      <td>...</td>\n",
              "    </tr>\n",
              "    <tr>\n",
              "      <th>112099</th>\n",
              "      <td>600</td>\n",
              "      <td>3</td>\n",
              "      <td>2015-04-22</td>\n",
              "      <td>5246.0</td>\n",
              "      <td>504.0</td>\n",
              "      <td>1.0</td>\n",
              "      <td>0.0</td>\n",
              "      <td>0</td>\n",
              "      <td>0.0</td>\n",
              "    </tr>\n",
              "    <tr>\n",
              "      <th>112100</th>\n",
              "      <td>601</td>\n",
              "      <td>3</td>\n",
              "      <td>2015-04-22</td>\n",
              "      <td>3615.0</td>\n",
              "      <td>303.0</td>\n",
              "      <td>1.0</td>\n",
              "      <td>0.0</td>\n",
              "      <td>0</td>\n",
              "      <td>0.0</td>\n",
              "    </tr>\n",
              "    <tr>\n",
              "      <th>112101</th>\n",
              "      <td>602</td>\n",
              "      <td>3</td>\n",
              "      <td>2015-04-22</td>\n",
              "      <td>5174.0</td>\n",
              "      <td>547.0</td>\n",
              "      <td>1.0</td>\n",
              "      <td>0.0</td>\n",
              "      <td>0</td>\n",
              "      <td>0.0</td>\n",
              "    </tr>\n",
              "    <tr>\n",
              "      <th>112102</th>\n",
              "      <td>603</td>\n",
              "      <td>3</td>\n",
              "      <td>2015-04-22</td>\n",
              "      <td>5479.0</td>\n",
              "      <td>937.0</td>\n",
              "      <td>1.0</td>\n",
              "      <td>0.0</td>\n",
              "      <td>0</td>\n",
              "      <td>0.0</td>\n",
              "    </tr>\n",
              "    <tr>\n",
              "      <th>112103</th>\n",
              "      <td>604</td>\n",
              "      <td>3</td>\n",
              "      <td>2015-04-</td>\n",
              "      <td>NaN</td>\n",
              "      <td>NaN</td>\n",
              "      <td>NaN</td>\n",
              "      <td>NaN</td>\n",
              "      <td>NaN</td>\n",
              "      <td>NaN</td>\n",
              "    </tr>\n",
              "  </tbody>\n",
              "</table>\n",
              "<p>112104 rows × 9 columns</p>\n",
              "</div>"
            ],
            "text/plain": [
              "        Store  DayOfWeek        Date  ...  Promo  StateHoliday  SchoolHoliday\n",
              "0           1          5  2015-07-31  ...    1.0             0            1.0\n",
              "1           2          5  2015-07-31  ...    1.0             0            1.0\n",
              "2           3          5  2015-07-31  ...    1.0             0            1.0\n",
              "3           4          5  2015-07-31  ...    1.0             0            1.0\n",
              "4           5          5  2015-07-31  ...    1.0             0            1.0\n",
              "...       ...        ...         ...  ...    ...           ...            ...\n",
              "112099    600          3  2015-04-22  ...    0.0             0            0.0\n",
              "112100    601          3  2015-04-22  ...    0.0             0            0.0\n",
              "112101    602          3  2015-04-22  ...    0.0             0            0.0\n",
              "112102    603          3  2015-04-22  ...    0.0             0            0.0\n",
              "112103    604          3    2015-04-  ...    NaN           NaN            NaN\n",
              "\n",
              "[112104 rows x 9 columns]"
            ]
          },
          "metadata": {
            "tags": []
          },
          "execution_count": 9
        }
      ]
    },
    {
      "cell_type": "code",
      "metadata": {
        "id": "CNvf6fJaGoIP",
        "colab": {
          "base_uri": "https://localhost:8080/",
          "height": 407
        },
        "outputId": "c12c1d68-db5e-4587-e127-9c90dc82196e"
      },
      "source": [
        "test"
      ],
      "execution_count": 10,
      "outputs": [
        {
          "output_type": "execute_result",
          "data": {
            "text/html": [
              "<div>\n",
              "<style scoped>\n",
              "    .dataframe tbody tr th:only-of-type {\n",
              "        vertical-align: middle;\n",
              "    }\n",
              "\n",
              "    .dataframe tbody tr th {\n",
              "        vertical-align: top;\n",
              "    }\n",
              "\n",
              "    .dataframe thead th {\n",
              "        text-align: right;\n",
              "    }\n",
              "</style>\n",
              "<table border=\"1\" class=\"dataframe\">\n",
              "  <thead>\n",
              "    <tr style=\"text-align: right;\">\n",
              "      <th></th>\n",
              "      <th>Id</th>\n",
              "      <th>Store</th>\n",
              "      <th>DayOfWeek</th>\n",
              "      <th>Date</th>\n",
              "      <th>Open</th>\n",
              "      <th>Promo</th>\n",
              "      <th>StateHoliday</th>\n",
              "      <th>SchoolHoliday</th>\n",
              "    </tr>\n",
              "  </thead>\n",
              "  <tbody>\n",
              "    <tr>\n",
              "      <th>0</th>\n",
              "      <td>1</td>\n",
              "      <td>1</td>\n",
              "      <td>4</td>\n",
              "      <td>2015-09-17</td>\n",
              "      <td>1.0</td>\n",
              "      <td>1</td>\n",
              "      <td>0</td>\n",
              "      <td>0</td>\n",
              "    </tr>\n",
              "    <tr>\n",
              "      <th>1</th>\n",
              "      <td>2</td>\n",
              "      <td>3</td>\n",
              "      <td>4</td>\n",
              "      <td>2015-09-17</td>\n",
              "      <td>1.0</td>\n",
              "      <td>1</td>\n",
              "      <td>0</td>\n",
              "      <td>0</td>\n",
              "    </tr>\n",
              "    <tr>\n",
              "      <th>2</th>\n",
              "      <td>3</td>\n",
              "      <td>7</td>\n",
              "      <td>4</td>\n",
              "      <td>2015-09-17</td>\n",
              "      <td>1.0</td>\n",
              "      <td>1</td>\n",
              "      <td>0</td>\n",
              "      <td>0</td>\n",
              "    </tr>\n",
              "    <tr>\n",
              "      <th>3</th>\n",
              "      <td>4</td>\n",
              "      <td>8</td>\n",
              "      <td>4</td>\n",
              "      <td>2015-09-17</td>\n",
              "      <td>1.0</td>\n",
              "      <td>1</td>\n",
              "      <td>0</td>\n",
              "      <td>0</td>\n",
              "    </tr>\n",
              "    <tr>\n",
              "      <th>4</th>\n",
              "      <td>5</td>\n",
              "      <td>9</td>\n",
              "      <td>4</td>\n",
              "      <td>2015-09-17</td>\n",
              "      <td>1.0</td>\n",
              "      <td>1</td>\n",
              "      <td>0</td>\n",
              "      <td>0</td>\n",
              "    </tr>\n",
              "    <tr>\n",
              "      <th>...</th>\n",
              "      <td>...</td>\n",
              "      <td>...</td>\n",
              "      <td>...</td>\n",
              "      <td>...</td>\n",
              "      <td>...</td>\n",
              "      <td>...</td>\n",
              "      <td>...</td>\n",
              "      <td>...</td>\n",
              "    </tr>\n",
              "    <tr>\n",
              "      <th>41083</th>\n",
              "      <td>41084</td>\n",
              "      <td>1111</td>\n",
              "      <td>6</td>\n",
              "      <td>2015-08-01</td>\n",
              "      <td>1.0</td>\n",
              "      <td>0</td>\n",
              "      <td>0</td>\n",
              "      <td>0</td>\n",
              "    </tr>\n",
              "    <tr>\n",
              "      <th>41084</th>\n",
              "      <td>41085</td>\n",
              "      <td>1112</td>\n",
              "      <td>6</td>\n",
              "      <td>2015-08-01</td>\n",
              "      <td>1.0</td>\n",
              "      <td>0</td>\n",
              "      <td>0</td>\n",
              "      <td>0</td>\n",
              "    </tr>\n",
              "    <tr>\n",
              "      <th>41085</th>\n",
              "      <td>41086</td>\n",
              "      <td>1113</td>\n",
              "      <td>6</td>\n",
              "      <td>2015-08-01</td>\n",
              "      <td>1.0</td>\n",
              "      <td>0</td>\n",
              "      <td>0</td>\n",
              "      <td>0</td>\n",
              "    </tr>\n",
              "    <tr>\n",
              "      <th>41086</th>\n",
              "      <td>41087</td>\n",
              "      <td>1114</td>\n",
              "      <td>6</td>\n",
              "      <td>2015-08-01</td>\n",
              "      <td>1.0</td>\n",
              "      <td>0</td>\n",
              "      <td>0</td>\n",
              "      <td>0</td>\n",
              "    </tr>\n",
              "    <tr>\n",
              "      <th>41087</th>\n",
              "      <td>41088</td>\n",
              "      <td>1115</td>\n",
              "      <td>6</td>\n",
              "      <td>2015-08-01</td>\n",
              "      <td>1.0</td>\n",
              "      <td>0</td>\n",
              "      <td>0</td>\n",
              "      <td>1</td>\n",
              "    </tr>\n",
              "  </tbody>\n",
              "</table>\n",
              "<p>41088 rows × 8 columns</p>\n",
              "</div>"
            ],
            "text/plain": [
              "          Id  Store  DayOfWeek  ... Promo  StateHoliday  SchoolHoliday\n",
              "0          1      1          4  ...     1             0              0\n",
              "1          2      3          4  ...     1             0              0\n",
              "2          3      7          4  ...     1             0              0\n",
              "3          4      8          4  ...     1             0              0\n",
              "4          5      9          4  ...     1             0              0\n",
              "...      ...    ...        ...  ...   ...           ...            ...\n",
              "41083  41084   1111          6  ...     0             0              0\n",
              "41084  41085   1112          6  ...     0             0              0\n",
              "41085  41086   1113          6  ...     0             0              0\n",
              "41086  41087   1114          6  ...     0             0              0\n",
              "41087  41088   1115          6  ...     0             0              1\n",
              "\n",
              "[41088 rows x 8 columns]"
            ]
          },
          "metadata": {
            "tags": []
          },
          "execution_count": 10
        }
      ]
    },
    {
      "cell_type": "code",
      "metadata": {
        "id": "uMuwMzDlQQHJ",
        "colab": {
          "base_uri": "https://localhost:8080/"
        },
        "outputId": "e1ad705d-93ab-4f84-c4af-40f8c2c1b84d"
      },
      "source": [
        "#Nous avllons prendre connaissance des Statisques générales et de la position de donneés par rapport au centre de nos données (eccart quadratique ou variance)\r\n",
        "\r\n",
        "print(\"Stat générales:\",train.describe(),\"Ecart quadratique:\",train.var())"
      ],
      "execution_count": 11,
      "outputs": [
        {
          "output_type": "stream",
          "text": [
            "Stat générales:                Store      DayOfWeek  ...          Promo  SchoolHoliday\n",
            "count  112104.000000  112104.000000  ...  112103.000000  112103.000000\n",
            "mean      536.138389       3.914437  ...       0.417741       0.184402\n",
            "std       332.654150       2.034087  ...       0.493189       0.387813\n",
            "min         1.000000       1.000000  ...       0.000000       0.000000\n",
            "25%       246.000000       2.000000  ...       0.000000       0.000000\n",
            "50%       534.000000       4.000000  ...       0.000000       0.000000\n",
            "75%       824.000000       6.000000  ...       1.000000       0.000000\n",
            "max      1115.000000       7.000000  ...       1.000000       1.000000\n",
            "\n",
            "[8 rows x 7 columns] Ecart quadratique: Store            1.106588e+05\n",
            "DayOfWeek        4.137510e+00\n",
            "Sales            1.531627e+07\n",
            "Customers        2.100335e+05\n",
            "Open             1.174271e-01\n",
            "Promo            2.432356e-01\n",
            "SchoolHoliday    1.503991e-01\n",
            "dtype: float64\n"
          ],
          "name": "stdout"
        }
      ]
    },
    {
      "cell_type": "code",
      "metadata": {
        "id": "SOGc1TwDizAk",
        "colab": {
          "base_uri": "https://localhost:8080/"
        },
        "outputId": "fff61296-c99c-4dd5-a7f9-7c40ba1ca200"
      },
      "source": [
        "train.isna().mean()"
      ],
      "execution_count": 12,
      "outputs": [
        {
          "output_type": "execute_result",
          "data": {
            "text/plain": [
              "Store            0.000000\n",
              "DayOfWeek        0.000000\n",
              "Date             0.000000\n",
              "Sales            0.000009\n",
              "Customers        0.000009\n",
              "Open             0.000009\n",
              "Promo            0.000009\n",
              "StateHoliday     0.000009\n",
              "SchoolHoliday    0.000009\n",
              "dtype: float64"
            ]
          },
          "metadata": {
            "tags": []
          },
          "execution_count": 12
        }
      ]
    },
    {
      "cell_type": "code",
      "metadata": {
        "colab": {
          "base_uri": "https://localhost:8080/",
          "height": 347
        },
        "id": "08UNX_aWnnK5",
        "outputId": "5b573284-c3d0-4eb6-f57d-a78c8ae20946"
      },
      "source": [
        "sb.heatmap(train.isna())\r\n",
        "#Nous avons très peu de valeurs manquantes"
      ],
      "execution_count": null,
      "outputs": [
        {
          "output_type": "execute_result",
          "data": {
            "text/plain": [
              "<matplotlib.axes._subplots.AxesSubplot at 0x7f9e23c53cd0>"
            ]
          },
          "metadata": {
            "tags": []
          },
          "execution_count": 17
        },
        {
          "output_type": "display_data",
          "data": {
            "image/png": "[encoded data removed]",
            "text/plain": [
              "<Figure size 432x288 with 2 Axes>"
            ]
          },
          "metadata": {
            "tags": [],
            "needs_background": "light"
          }
        }
      ]
    },
    {
      "cell_type": "code",
      "metadata": {
        "colab": {
          "base_uri": "https://localhost:8080/",
          "height": 347
        },
        "id": "A33YWibooZqW",
        "outputId": "2ceae304-03d2-4fee-e9c2-d66601e14953"
      },
      "source": [
        "#Matrice de correlation\r\n",
        "\r\n",
        "sb.heatmap(train.corr())\r\n",
        "#Nous constatons que les variables correlés sont: Sales, Open , Promo , Customers nous allons analyser ces relations inter-variables plus en detail"
      ],
      "execution_count": 13,
      "outputs": [
        {
          "output_type": "execute_result",
          "data": {
            "text/plain": [
              "<matplotlib.axes._subplots.AxesSubplot at 0x7fce92be8190>"
            ]
          },
          "metadata": {
            "tags": []
          },
          "execution_count": 13
        },
        {
          "output_type": "display_data",
          "data": {
            "image/png": "[encoded data removed]",
            "text/plain": [
              "<Figure size 432x288 with 2 Axes>"
            ]
          },
          "metadata": {
            "tags": [],
            "needs_background": "light"
          }
        }
      ]
    },
    {
      "cell_type": "code",
      "metadata": {
        "id": "IawRLQjNnve9"
      },
      "source": [
        "train.Date=pd.to_datetime(train[\"Date\"],errors=\"coerce\")"
      ],
      "execution_count": 16,
      "outputs": []
    },
    {
      "cell_type": "code",
      "metadata": {
        "id": "0kQ7RkyRQRjJ",
        "colab": {
          "base_uri": "https://localhost:8080/",
          "height": 644
        },
        "outputId": "45e5aa6c-5796-4c67-aa7b-30867658fc76"
      },
      "source": [
        "sb.scatterplot(train[\"Customers\"],train[\"Sales\"])\r\n",
        "plt.show()\r\n",
        "sb.scatterplot(train[\"Promo\"],train[\"Sales\"])\r\n",
        " "
      ],
      "execution_count": 17,
      "outputs": [
        {
          "output_type": "stream",
          "text": [
            "/usr/local/lib/python3.7/dist-packages/seaborn/_decorators.py:43: FutureWarning: Pass the following variables as keyword args: x, y. From version 0.12, the only valid positional argument will be `data`, and passing other arguments without an explicit keyword will result in an error or misinterpretation.\n",
            "  FutureWarning\n"
          ],
          "name": "stderr"
        },
        {
          "output_type": "display_data",
          "data": {
            "image/png": "[encoded data removed]",
            "text/plain": [
              "<Figure size 432x288 with 1 Axes>"
            ]
          },
          "metadata": {
            "tags": [],
            "needs_background": "light"
          }
        },
        {
          "output_type": "stream",
          "text": [
            "/usr/local/lib/python3.7/dist-packages/seaborn/_decorators.py:43: FutureWarning: Pass the following variables as keyword args: x, y. From version 0.12, the only valid positional argument will be `data`, and passing other arguments without an explicit keyword will result in an error or misinterpretation.\n",
            "  FutureWarning\n"
          ],
          "name": "stderr"
        },
        {
          "output_type": "execute_result",
          "data": {
            "text/plain": [
              "<matplotlib.axes._subplots.AxesSubplot at 0x7fce89a86c90>"
            ]
          },
          "metadata": {
            "tags": []
          },
          "execution_count": 17
        },
        {
          "output_type": "display_data",
          "data": {
            "image/png": "[encoded data removed]",
            "text/plain": [
              "<Figure size 432x288 with 1 Axes>"
            ]
          },
          "metadata": {
            "tags": [],
            "needs_background": "light"
          }
        }
      ]
    },
    {
      "cell_type": "code",
      "metadata": {
        "id": "vE4tU_M2sOpZ",
        "colab": {
          "base_uri": "https://localhost:8080/",
          "height": 349
        },
        "outputId": "bd8b34f5-1bb8-4250-fa65-6e846fb287c7"
      },
      "source": [
        "\r\n",
        "#visualisosns la distribution de notre variable dépendante\r\n",
        "features=train.columns\r\n",
        "sb.distplot(train[\"Sales\"])\r\n",
        "#Nous avons une distribution presque  normale|Gaussienne"
      ],
      "execution_count": 18,
      "outputs": [
        {
          "output_type": "stream",
          "text": [
            "/usr/local/lib/python3.7/dist-packages/seaborn/distributions.py:2557: FutureWarning: `distplot` is a deprecated function and will be removed in a future version. Please adapt your code to use either `displot` (a figure-level function with similar flexibility) or `histplot` (an axes-level function for histograms).\n",
            "  warnings.warn(msg, FutureWarning)\n"
          ],
          "name": "stderr"
        },
        {
          "output_type": "execute_result",
          "data": {
            "text/plain": [
              "<matplotlib.axes._subplots.AxesSubplot at 0x7fce89e74d90>"
            ]
          },
          "metadata": {
            "tags": []
          },
          "execution_count": 18
        },
        {
          "output_type": "display_data",
          "data": {
            "image/png": "[encoded data removed]",
            "text/plain": [
              "<Figure size 432x288 with 1 Axes>"
            ]
          },
          "metadata": {
            "tags": [],
            "needs_background": "light"
          }
        }
      ]
    },
    {
      "cell_type": "code",
      "metadata": {
        "id": "DBfEk9Ne0PEi",
        "colab": {
          "base_uri": "https://localhost:8080/",
          "height": 446
        },
        "outputId": "f93092fa-b2c2-43da-a494-72d8d9b54d82"
      },
      "source": [
        "pd.crosstab(train[\"Sales\"],train[\"Open\"])\r\n",
        "# On peut déduire que lorsque le magagsin est fermé on a majoritairemet un CA nul ce qui est logique\r\n",
        "# Il y a un seul cas dans lequel le magasin est ouvert sans de vente\r\n",
        "#Généralement lorsque le magasin est ouvert on a un CA !=0 ce qui est  assez logique\r\n"
      ],
      "execution_count": null,
      "outputs": [
        {
          "output_type": "execute_result",
          "data": {
            "text/html": [
              "<div>\n",
              "<style scoped>\n",
              "    .dataframe tbody tr th:only-of-type {\n",
              "        vertical-align: middle;\n",
              "    }\n",
              "\n",
              "    .dataframe tbody tr th {\n",
              "        vertical-align: top;\n",
              "    }\n",
              "\n",
              "    .dataframe thead th {\n",
              "        text-align: right;\n",
              "    }\n",
              "</style>\n",
              "<table border=\"1\" class=\"dataframe\">\n",
              "  <thead>\n",
              "    <tr style=\"text-align: right;\">\n",
              "      <th>Open</th>\n",
              "      <th>0.0</th>\n",
              "      <th>1.0</th>\n",
              "    </tr>\n",
              "    <tr>\n",
              "      <th>Sales</th>\n",
              "      <th></th>\n",
              "      <th></th>\n",
              "    </tr>\n",
              "  </thead>\n",
              "  <tbody>\n",
              "    <tr>\n",
              "      <th>0.0</th>\n",
              "      <td>15234</td>\n",
              "      <td>1</td>\n",
              "    </tr>\n",
              "    <tr>\n",
              "      <th>1.0</th>\n",
              "      <td>0</td>\n",
              "      <td>4111</td>\n",
              "    </tr>\n",
              "    <tr>\n",
              "      <th>569.0</th>\n",
              "      <td>0</td>\n",
              "      <td>1</td>\n",
              "    </tr>\n",
              "    <tr>\n",
              "      <th>702.0</th>\n",
              "      <td>0</td>\n",
              "      <td>1</td>\n",
              "    </tr>\n",
              "    <tr>\n",
              "      <th>703.0</th>\n",
              "      <td>0</td>\n",
              "      <td>1</td>\n",
              "    </tr>\n",
              "    <tr>\n",
              "      <th>...</th>\n",
              "      <td>...</td>\n",
              "      <td>...</td>\n",
              "    </tr>\n",
              "    <tr>\n",
              "      <th>31665.0</th>\n",
              "      <td>0</td>\n",
              "      <td>1</td>\n",
              "    </tr>\n",
              "    <tr>\n",
              "      <th>32271.0</th>\n",
              "      <td>0</td>\n",
              "      <td>1</td>\n",
              "    </tr>\n",
              "    <tr>\n",
              "      <th>32400.0</th>\n",
              "      <td>0</td>\n",
              "      <td>1</td>\n",
              "    </tr>\n",
              "    <tr>\n",
              "      <th>32547.0</th>\n",
              "      <td>0</td>\n",
              "      <td>1</td>\n",
              "    </tr>\n",
              "    <tr>\n",
              "      <th>41551.0</th>\n",
              "      <td>0</td>\n",
              "      <td>1</td>\n",
              "    </tr>\n",
              "  </tbody>\n",
              "</table>\n",
              "<p>14147 rows × 2 columns</p>\n",
              "</div>"
            ],
            "text/plain": [
              "Open       0.0   1.0\n",
              "Sales               \n",
              "0.0      15234     1\n",
              "1.0          0  4111\n",
              "569.0        0     1\n",
              "702.0        0     1\n",
              "703.0        0     1\n",
              "...        ...   ...\n",
              "31665.0      0     1\n",
              "32271.0      0     1\n",
              "32400.0      0     1\n",
              "32547.0      0     1\n",
              "41551.0      0     1\n",
              "\n",
              "[14147 rows x 2 columns]"
            ]
          },
          "metadata": {
            "tags": []
          },
          "execution_count": 103
        }
      ]
    },
    {
      "cell_type": "code",
      "metadata": {
        "colab": {
          "base_uri": "https://localhost:8080/",
          "height": 446
        },
        "id": "X07EGXey7TrE",
        "outputId": "f9e98818-562d-4aaa-c567-5886694cce93"
      },
      "source": [
        "pd.crosstab(train[\"Sales\"],train[\"DayOfWeek\"])\r\n",
        "#les dimanches est le jour ou il y a le souvent un chiffre d'affaire nul\r\n",
        "#Hypothese: Il se peut que le magasin soit fermé les dimanches..\r\n",
        "\r\n"
      ],
      "execution_count": null,
      "outputs": [
        {
          "output_type": "execute_result",
          "data": {
            "text/html": [
              "<div>\n",
              "<style scoped>\n",
              "    .dataframe tbody tr th:only-of-type {\n",
              "        vertical-align: middle;\n",
              "    }\n",
              "\n",
              "    .dataframe tbody tr th {\n",
              "        vertical-align: top;\n",
              "    }\n",
              "\n",
              "    .dataframe thead th {\n",
              "        text-align: right;\n",
              "    }\n",
              "</style>\n",
              "<table border=\"1\" class=\"dataframe\">\n",
              "  <thead>\n",
              "    <tr style=\"text-align: right;\">\n",
              "      <th>DayOfWeek</th>\n",
              "      <th>1</th>\n",
              "      <th>2</th>\n",
              "      <th>3</th>\n",
              "      <th>4</th>\n",
              "      <th>5</th>\n",
              "      <th>6</th>\n",
              "      <th>7</th>\n",
              "    </tr>\n",
              "    <tr>\n",
              "      <th>Sales</th>\n",
              "      <th></th>\n",
              "      <th></th>\n",
              "      <th></th>\n",
              "      <th></th>\n",
              "      <th></th>\n",
              "      <th></th>\n",
              "      <th></th>\n",
              "    </tr>\n",
              "  </thead>\n",
              "  <tbody>\n",
              "    <tr>\n",
              "      <th>0.0</th>\n",
              "      <td>11</td>\n",
              "      <td>13</td>\n",
              "      <td>13</td>\n",
              "      <td>16</td>\n",
              "      <td>13</td>\n",
              "      <td>10</td>\n",
              "      <td>15159</td>\n",
              "    </tr>\n",
              "    <tr>\n",
              "      <th>1.0</th>\n",
              "      <td>4111</td>\n",
              "      <td>0</td>\n",
              "      <td>0</td>\n",
              "      <td>0</td>\n",
              "      <td>0</td>\n",
              "      <td>0</td>\n",
              "      <td>0</td>\n",
              "    </tr>\n",
              "    <tr>\n",
              "      <th>569.0</th>\n",
              "      <td>0</td>\n",
              "      <td>0</td>\n",
              "      <td>0</td>\n",
              "      <td>0</td>\n",
              "      <td>0</td>\n",
              "      <td>1</td>\n",
              "      <td>0</td>\n",
              "    </tr>\n",
              "    <tr>\n",
              "      <th>702.0</th>\n",
              "      <td>0</td>\n",
              "      <td>0</td>\n",
              "      <td>0</td>\n",
              "      <td>0</td>\n",
              "      <td>0</td>\n",
              "      <td>1</td>\n",
              "      <td>0</td>\n",
              "    </tr>\n",
              "    <tr>\n",
              "      <th>703.0</th>\n",
              "      <td>0</td>\n",
              "      <td>0</td>\n",
              "      <td>0</td>\n",
              "      <td>0</td>\n",
              "      <td>0</td>\n",
              "      <td>1</td>\n",
              "      <td>0</td>\n",
              "    </tr>\n",
              "    <tr>\n",
              "      <th>...</th>\n",
              "      <td>...</td>\n",
              "      <td>...</td>\n",
              "      <td>...</td>\n",
              "      <td>...</td>\n",
              "      <td>...</td>\n",
              "      <td>...</td>\n",
              "      <td>...</td>\n",
              "    </tr>\n",
              "    <tr>\n",
              "      <th>31665.0</th>\n",
              "      <td>0</td>\n",
              "      <td>0</td>\n",
              "      <td>0</td>\n",
              "      <td>0</td>\n",
              "      <td>0</td>\n",
              "      <td>0</td>\n",
              "      <td>1</td>\n",
              "    </tr>\n",
              "    <tr>\n",
              "      <th>32271.0</th>\n",
              "      <td>0</td>\n",
              "      <td>0</td>\n",
              "      <td>0</td>\n",
              "      <td>0</td>\n",
              "      <td>0</td>\n",
              "      <td>0</td>\n",
              "      <td>1</td>\n",
              "    </tr>\n",
              "    <tr>\n",
              "      <th>32400.0</th>\n",
              "      <td>0</td>\n",
              "      <td>0</td>\n",
              "      <td>0</td>\n",
              "      <td>0</td>\n",
              "      <td>0</td>\n",
              "      <td>0</td>\n",
              "      <td>1</td>\n",
              "    </tr>\n",
              "    <tr>\n",
              "      <th>32547.0</th>\n",
              "      <td>0</td>\n",
              "      <td>0</td>\n",
              "      <td>0</td>\n",
              "      <td>0</td>\n",
              "      <td>0</td>\n",
              "      <td>0</td>\n",
              "      <td>1</td>\n",
              "    </tr>\n",
              "    <tr>\n",
              "      <th>41551.0</th>\n",
              "      <td>1</td>\n",
              "      <td>0</td>\n",
              "      <td>0</td>\n",
              "      <td>0</td>\n",
              "      <td>0</td>\n",
              "      <td>0</td>\n",
              "      <td>0</td>\n",
              "    </tr>\n",
              "  </tbody>\n",
              "</table>\n",
              "<p>14147 rows × 7 columns</p>\n",
              "</div>"
            ],
            "text/plain": [
              "DayOfWeek     1   2   3   4   5   6      7\n",
              "Sales                                     \n",
              "0.0          11  13  13  16  13  10  15159\n",
              "1.0        4111   0   0   0   0   0      0\n",
              "569.0         0   0   0   0   0   1      0\n",
              "702.0         0   0   0   0   0   1      0\n",
              "703.0         0   0   0   0   0   1      0\n",
              "...         ...  ..  ..  ..  ..  ..    ...\n",
              "31665.0       0   0   0   0   0   0      1\n",
              "32271.0       0   0   0   0   0   0      1\n",
              "32400.0       0   0   0   0   0   0      1\n",
              "32547.0       0   0   0   0   0   0      1\n",
              "41551.0       1   0   0   0   0   0      0\n",
              "\n",
              "[14147 rows x 7 columns]"
            ]
          },
          "metadata": {
            "tags": []
          },
          "execution_count": 104
        }
      ]
    },
    {
      "cell_type": "code",
      "metadata": {
        "id": "opFy2-R56rhb",
        "colab": {
          "base_uri": "https://localhost:8080/",
          "height": 446
        },
        "outputId": "6c537bcf-cf54-45a5-ddf1-2e5c908bce7f"
      },
      "source": [
        "pd.crosstab(train[\"Customers\"],train[\"Open\"])\r\n",
        "## On peut déduire que lorsque le magagsin est fermé on n'a pas de client ce qui est logique\r\n",
        "\r\n",
        "#Généralement lorsque le magasin est ouvert on a des clients ce qui est assez logique"
      ],
      "execution_count": null,
      "outputs": [
        {
          "output_type": "execute_result",
          "data": {
            "text/html": [
              "<div>\n",
              "<style scoped>\n",
              "    .dataframe tbody tr th:only-of-type {\n",
              "        vertical-align: middle;\n",
              "    }\n",
              "\n",
              "    .dataframe tbody tr th {\n",
              "        vertical-align: top;\n",
              "    }\n",
              "\n",
              "    .dataframe thead th {\n",
              "        text-align: right;\n",
              "    }\n",
              "</style>\n",
              "<table border=\"1\" class=\"dataframe\">\n",
              "  <thead>\n",
              "    <tr style=\"text-align: right;\">\n",
              "      <th>Open</th>\n",
              "      <th>0.0</th>\n",
              "      <th>1.0</th>\n",
              "    </tr>\n",
              "    <tr>\n",
              "      <th>Customers</th>\n",
              "      <th></th>\n",
              "      <th></th>\n",
              "    </tr>\n",
              "  </thead>\n",
              "  <tbody>\n",
              "    <tr>\n",
              "      <th>0.0</th>\n",
              "      <td>15234</td>\n",
              "      <td>1</td>\n",
              "    </tr>\n",
              "    <tr>\n",
              "      <th>1.0</th>\n",
              "      <td>0</td>\n",
              "      <td>4111</td>\n",
              "    </tr>\n",
              "    <tr>\n",
              "      <th>75.0</th>\n",
              "      <td>0</td>\n",
              "      <td>1</td>\n",
              "    </tr>\n",
              "    <tr>\n",
              "      <th>82.0</th>\n",
              "      <td>0</td>\n",
              "      <td>1</td>\n",
              "    </tr>\n",
              "    <tr>\n",
              "      <th>87.0</th>\n",
              "      <td>0</td>\n",
              "      <td>1</td>\n",
              "    </tr>\n",
              "    <tr>\n",
              "      <th>...</th>\n",
              "      <td>...</td>\n",
              "      <td>...</td>\n",
              "    </tr>\n",
              "    <tr>\n",
              "      <th>4691.0</th>\n",
              "      <td>0</td>\n",
              "      <td>1</td>\n",
              "    </tr>\n",
              "    <tr>\n",
              "      <th>4729.0</th>\n",
              "      <td>0</td>\n",
              "      <td>1</td>\n",
              "    </tr>\n",
              "    <tr>\n",
              "      <th>4762.0</th>\n",
              "      <td>0</td>\n",
              "      <td>1</td>\n",
              "    </tr>\n",
              "    <tr>\n",
              "      <th>4783.0</th>\n",
              "      <td>0</td>\n",
              "      <td>1</td>\n",
              "    </tr>\n",
              "    <tr>\n",
              "      <th>4985.0</th>\n",
              "      <td>0</td>\n",
              "      <td>1</td>\n",
              "    </tr>\n",
              "  </tbody>\n",
              "</table>\n",
              "<p>2849 rows × 2 columns</p>\n",
              "</div>"
            ],
            "text/plain": [
              "Open         0.0   1.0\n",
              "Customers             \n",
              "0.0        15234     1\n",
              "1.0            0  4111\n",
              "75.0           0     1\n",
              "82.0           0     1\n",
              "87.0           0     1\n",
              "...          ...   ...\n",
              "4691.0         0     1\n",
              "4729.0         0     1\n",
              "4762.0         0     1\n",
              "4783.0         0     1\n",
              "4985.0         0     1\n",
              "\n",
              "[2849 rows x 2 columns]"
            ]
          },
          "metadata": {
            "tags": []
          },
          "execution_count": 106
        }
      ]
    },
    {
      "cell_type": "code",
      "metadata": {
        "colab": {
          "base_uri": "https://localhost:8080/",
          "height": 466
        },
        "id": "m1i2Wz79358f",
        "outputId": "a71f930a-bca6-4d70-ce05-05da28cef028"
      },
      "source": [
        "pd.crosstab(train[\"Sales\"],train[\"Customers\"])\r\n",
        "#Quand il n'y a pas de client il n'y a pas de chiffre d'affaire généralement\r\n",
        "#Dès quil y a des clients il a un chiffre d'affaire non nul dans la journée en question\r\n",
        "#C'est assez logique"
      ],
      "execution_count": null,
      "outputs": [
        {
          "output_type": "execute_result",
          "data": {
            "text/html": [
              "<div>\n",
              "<style scoped>\n",
              "    .dataframe tbody tr th:only-of-type {\n",
              "        vertical-align: middle;\n",
              "    }\n",
              "\n",
              "    .dataframe tbody tr th {\n",
              "        vertical-align: top;\n",
              "    }\n",
              "\n",
              "    .dataframe thead th {\n",
              "        text-align: right;\n",
              "    }\n",
              "</style>\n",
              "<table border=\"1\" class=\"dataframe\">\n",
              "  <thead>\n",
              "    <tr style=\"text-align: right;\">\n",
              "      <th>Customers</th>\n",
              "      <th>0.0</th>\n",
              "      <th>1.0</th>\n",
              "      <th>75.0</th>\n",
              "      <th>82.0</th>\n",
              "      <th>87.0</th>\n",
              "      <th>92.0</th>\n",
              "      <th>100.0</th>\n",
              "      <th>101.0</th>\n",
              "      <th>103.0</th>\n",
              "      <th>104.0</th>\n",
              "      <th>105.0</th>\n",
              "      <th>112.0</th>\n",
              "      <th>114.0</th>\n",
              "      <th>117.0</th>\n",
              "      <th>118.0</th>\n",
              "      <th>119.0</th>\n",
              "      <th>121.0</th>\n",
              "      <th>122.0</th>\n",
              "      <th>123.0</th>\n",
              "      <th>125.0</th>\n",
              "      <th>126.0</th>\n",
              "      <th>127.0</th>\n",
              "      <th>128.0</th>\n",
              "      <th>131.0</th>\n",
              "      <th>132.0</th>\n",
              "      <th>133.0</th>\n",
              "      <th>134.0</th>\n",
              "      <th>136.0</th>\n",
              "      <th>137.0</th>\n",
              "      <th>138.0</th>\n",
              "      <th>139.0</th>\n",
              "      <th>140.0</th>\n",
              "      <th>141.0</th>\n",
              "      <th>142.0</th>\n",
              "      <th>143.0</th>\n",
              "      <th>144.0</th>\n",
              "      <th>145.0</th>\n",
              "      <th>146.0</th>\n",
              "      <th>147.0</th>\n",
              "      <th>148.0</th>\n",
              "      <th>...</th>\n",
              "      <th>3954.0</th>\n",
              "      <th>3968.0</th>\n",
              "      <th>3978.0</th>\n",
              "      <th>4013.0</th>\n",
              "      <th>4023.0</th>\n",
              "      <th>4050.0</th>\n",
              "      <th>4051.0</th>\n",
              "      <th>4054.0</th>\n",
              "      <th>4075.0</th>\n",
              "      <th>4077.0</th>\n",
              "      <th>4084.0</th>\n",
              "      <th>4094.0</th>\n",
              "      <th>4121.0</th>\n",
              "      <th>4136.0</th>\n",
              "      <th>4160.0</th>\n",
              "      <th>4170.0</th>\n",
              "      <th>4180.0</th>\n",
              "      <th>4256.0</th>\n",
              "      <th>4300.0</th>\n",
              "      <th>4335.0</th>\n",
              "      <th>4340.0</th>\n",
              "      <th>4360.0</th>\n",
              "      <th>4382.0</th>\n",
              "      <th>4394.0</th>\n",
              "      <th>4397.0</th>\n",
              "      <th>4424.0</th>\n",
              "      <th>4448.0</th>\n",
              "      <th>4450.0</th>\n",
              "      <th>4453.0</th>\n",
              "      <th>4510.0</th>\n",
              "      <th>4531.0</th>\n",
              "      <th>4533.0</th>\n",
              "      <th>4582.0</th>\n",
              "      <th>4623.0</th>\n",
              "      <th>4668.0</th>\n",
              "      <th>4691.0</th>\n",
              "      <th>4729.0</th>\n",
              "      <th>4762.0</th>\n",
              "      <th>4783.0</th>\n",
              "      <th>4985.0</th>\n",
              "    </tr>\n",
              "    <tr>\n",
              "      <th>Sales</th>\n",
              "      <th></th>\n",
              "      <th></th>\n",
              "      <th></th>\n",
              "      <th></th>\n",
              "      <th></th>\n",
              "      <th></th>\n",
              "      <th></th>\n",
              "      <th></th>\n",
              "      <th></th>\n",
              "      <th></th>\n",
              "      <th></th>\n",
              "      <th></th>\n",
              "      <th></th>\n",
              "      <th></th>\n",
              "      <th></th>\n",
              "      <th></th>\n",
              "      <th></th>\n",
              "      <th></th>\n",
              "      <th></th>\n",
              "      <th></th>\n",
              "      <th></th>\n",
              "      <th></th>\n",
              "      <th></th>\n",
              "      <th></th>\n",
              "      <th></th>\n",
              "      <th></th>\n",
              "      <th></th>\n",
              "      <th></th>\n",
              "      <th></th>\n",
              "      <th></th>\n",
              "      <th></th>\n",
              "      <th></th>\n",
              "      <th></th>\n",
              "      <th></th>\n",
              "      <th></th>\n",
              "      <th></th>\n",
              "      <th></th>\n",
              "      <th></th>\n",
              "      <th></th>\n",
              "      <th></th>\n",
              "      <th></th>\n",
              "      <th></th>\n",
              "      <th></th>\n",
              "      <th></th>\n",
              "      <th></th>\n",
              "      <th></th>\n",
              "      <th></th>\n",
              "      <th></th>\n",
              "      <th></th>\n",
              "      <th></th>\n",
              "      <th></th>\n",
              "      <th></th>\n",
              "      <th></th>\n",
              "      <th></th>\n",
              "      <th></th>\n",
              "      <th></th>\n",
              "      <th></th>\n",
              "      <th></th>\n",
              "      <th></th>\n",
              "      <th></th>\n",
              "      <th></th>\n",
              "      <th></th>\n",
              "      <th></th>\n",
              "      <th></th>\n",
              "      <th></th>\n",
              "      <th></th>\n",
              "      <th></th>\n",
              "      <th></th>\n",
              "      <th></th>\n",
              "      <th></th>\n",
              "      <th></th>\n",
              "      <th></th>\n",
              "      <th></th>\n",
              "      <th></th>\n",
              "      <th></th>\n",
              "      <th></th>\n",
              "      <th></th>\n",
              "      <th></th>\n",
              "      <th></th>\n",
              "      <th></th>\n",
              "      <th></th>\n",
              "    </tr>\n",
              "  </thead>\n",
              "  <tbody>\n",
              "    <tr>\n",
              "      <th>0.0</th>\n",
              "      <td>15235</td>\n",
              "      <td>0</td>\n",
              "      <td>0</td>\n",
              "      <td>0</td>\n",
              "      <td>0</td>\n",
              "      <td>0</td>\n",
              "      <td>0</td>\n",
              "      <td>0</td>\n",
              "      <td>0</td>\n",
              "      <td>0</td>\n",
              "      <td>0</td>\n",
              "      <td>0</td>\n",
              "      <td>0</td>\n",
              "      <td>0</td>\n",
              "      <td>0</td>\n",
              "      <td>0</td>\n",
              "      <td>0</td>\n",
              "      <td>0</td>\n",
              "      <td>0</td>\n",
              "      <td>0</td>\n",
              "      <td>0</td>\n",
              "      <td>0</td>\n",
              "      <td>0</td>\n",
              "      <td>0</td>\n",
              "      <td>0</td>\n",
              "      <td>0</td>\n",
              "      <td>0</td>\n",
              "      <td>0</td>\n",
              "      <td>0</td>\n",
              "      <td>0</td>\n",
              "      <td>0</td>\n",
              "      <td>0</td>\n",
              "      <td>0</td>\n",
              "      <td>0</td>\n",
              "      <td>0</td>\n",
              "      <td>0</td>\n",
              "      <td>0</td>\n",
              "      <td>0</td>\n",
              "      <td>0</td>\n",
              "      <td>0</td>\n",
              "      <td>...</td>\n",
              "      <td>0</td>\n",
              "      <td>0</td>\n",
              "      <td>0</td>\n",
              "      <td>0</td>\n",
              "      <td>0</td>\n",
              "      <td>0</td>\n",
              "      <td>0</td>\n",
              "      <td>0</td>\n",
              "      <td>0</td>\n",
              "      <td>0</td>\n",
              "      <td>0</td>\n",
              "      <td>0</td>\n",
              "      <td>0</td>\n",
              "      <td>0</td>\n",
              "      <td>0</td>\n",
              "      <td>0</td>\n",
              "      <td>0</td>\n",
              "      <td>0</td>\n",
              "      <td>0</td>\n",
              "      <td>0</td>\n",
              "      <td>0</td>\n",
              "      <td>0</td>\n",
              "      <td>0</td>\n",
              "      <td>0</td>\n",
              "      <td>0</td>\n",
              "      <td>0</td>\n",
              "      <td>0</td>\n",
              "      <td>0</td>\n",
              "      <td>0</td>\n",
              "      <td>0</td>\n",
              "      <td>0</td>\n",
              "      <td>0</td>\n",
              "      <td>0</td>\n",
              "      <td>0</td>\n",
              "      <td>0</td>\n",
              "      <td>0</td>\n",
              "      <td>0</td>\n",
              "      <td>0</td>\n",
              "      <td>0</td>\n",
              "      <td>0</td>\n",
              "    </tr>\n",
              "    <tr>\n",
              "      <th>1.0</th>\n",
              "      <td>0</td>\n",
              "      <td>4111</td>\n",
              "      <td>0</td>\n",
              "      <td>0</td>\n",
              "      <td>0</td>\n",
              "      <td>0</td>\n",
              "      <td>0</td>\n",
              "      <td>0</td>\n",
              "      <td>0</td>\n",
              "      <td>0</td>\n",
              "      <td>0</td>\n",
              "      <td>0</td>\n",
              "      <td>0</td>\n",
              "      <td>0</td>\n",
              "      <td>0</td>\n",
              "      <td>0</td>\n",
              "      <td>0</td>\n",
              "      <td>0</td>\n",
              "      <td>0</td>\n",
              "      <td>0</td>\n",
              "      <td>0</td>\n",
              "      <td>0</td>\n",
              "      <td>0</td>\n",
              "      <td>0</td>\n",
              "      <td>0</td>\n",
              "      <td>0</td>\n",
              "      <td>0</td>\n",
              "      <td>0</td>\n",
              "      <td>0</td>\n",
              "      <td>0</td>\n",
              "      <td>0</td>\n",
              "      <td>0</td>\n",
              "      <td>0</td>\n",
              "      <td>0</td>\n",
              "      <td>0</td>\n",
              "      <td>0</td>\n",
              "      <td>0</td>\n",
              "      <td>0</td>\n",
              "      <td>0</td>\n",
              "      <td>0</td>\n",
              "      <td>...</td>\n",
              "      <td>0</td>\n",
              "      <td>0</td>\n",
              "      <td>0</td>\n",
              "      <td>0</td>\n",
              "      <td>0</td>\n",
              "      <td>0</td>\n",
              "      <td>0</td>\n",
              "      <td>0</td>\n",
              "      <td>0</td>\n",
              "      <td>0</td>\n",
              "      <td>0</td>\n",
              "      <td>0</td>\n",
              "      <td>0</td>\n",
              "      <td>0</td>\n",
              "      <td>0</td>\n",
              "      <td>0</td>\n",
              "      <td>0</td>\n",
              "      <td>0</td>\n",
              "      <td>0</td>\n",
              "      <td>0</td>\n",
              "      <td>0</td>\n",
              "      <td>0</td>\n",
              "      <td>0</td>\n",
              "      <td>0</td>\n",
              "      <td>0</td>\n",
              "      <td>0</td>\n",
              "      <td>0</td>\n",
              "      <td>0</td>\n",
              "      <td>0</td>\n",
              "      <td>0</td>\n",
              "      <td>0</td>\n",
              "      <td>0</td>\n",
              "      <td>0</td>\n",
              "      <td>0</td>\n",
              "      <td>0</td>\n",
              "      <td>0</td>\n",
              "      <td>0</td>\n",
              "      <td>0</td>\n",
              "      <td>0</td>\n",
              "      <td>0</td>\n",
              "    </tr>\n",
              "    <tr>\n",
              "      <th>569.0</th>\n",
              "      <td>0</td>\n",
              "      <td>0</td>\n",
              "      <td>1</td>\n",
              "      <td>0</td>\n",
              "      <td>0</td>\n",
              "      <td>0</td>\n",
              "      <td>0</td>\n",
              "      <td>0</td>\n",
              "      <td>0</td>\n",
              "      <td>0</td>\n",
              "      <td>0</td>\n",
              "      <td>0</td>\n",
              "      <td>0</td>\n",
              "      <td>0</td>\n",
              "      <td>0</td>\n",
              "      <td>0</td>\n",
              "      <td>0</td>\n",
              "      <td>0</td>\n",
              "      <td>0</td>\n",
              "      <td>0</td>\n",
              "      <td>0</td>\n",
              "      <td>0</td>\n",
              "      <td>0</td>\n",
              "      <td>0</td>\n",
              "      <td>0</td>\n",
              "      <td>0</td>\n",
              "      <td>0</td>\n",
              "      <td>0</td>\n",
              "      <td>0</td>\n",
              "      <td>0</td>\n",
              "      <td>0</td>\n",
              "      <td>0</td>\n",
              "      <td>0</td>\n",
              "      <td>0</td>\n",
              "      <td>0</td>\n",
              "      <td>0</td>\n",
              "      <td>0</td>\n",
              "      <td>0</td>\n",
              "      <td>0</td>\n",
              "      <td>0</td>\n",
              "      <td>...</td>\n",
              "      <td>0</td>\n",
              "      <td>0</td>\n",
              "      <td>0</td>\n",
              "      <td>0</td>\n",
              "      <td>0</td>\n",
              "      <td>0</td>\n",
              "      <td>0</td>\n",
              "      <td>0</td>\n",
              "      <td>0</td>\n",
              "      <td>0</td>\n",
              "      <td>0</td>\n",
              "      <td>0</td>\n",
              "      <td>0</td>\n",
              "      <td>0</td>\n",
              "      <td>0</td>\n",
              "      <td>0</td>\n",
              "      <td>0</td>\n",
              "      <td>0</td>\n",
              "      <td>0</td>\n",
              "      <td>0</td>\n",
              "      <td>0</td>\n",
              "      <td>0</td>\n",
              "      <td>0</td>\n",
              "      <td>0</td>\n",
              "      <td>0</td>\n",
              "      <td>0</td>\n",
              "      <td>0</td>\n",
              "      <td>0</td>\n",
              "      <td>0</td>\n",
              "      <td>0</td>\n",
              "      <td>0</td>\n",
              "      <td>0</td>\n",
              "      <td>0</td>\n",
              "      <td>0</td>\n",
              "      <td>0</td>\n",
              "      <td>0</td>\n",
              "      <td>0</td>\n",
              "      <td>0</td>\n",
              "      <td>0</td>\n",
              "      <td>0</td>\n",
              "    </tr>\n",
              "    <tr>\n",
              "      <th>702.0</th>\n",
              "      <td>0</td>\n",
              "      <td>0</td>\n",
              "      <td>0</td>\n",
              "      <td>0</td>\n",
              "      <td>0</td>\n",
              "      <td>1</td>\n",
              "      <td>0</td>\n",
              "      <td>0</td>\n",
              "      <td>0</td>\n",
              "      <td>0</td>\n",
              "      <td>0</td>\n",
              "      <td>0</td>\n",
              "      <td>0</td>\n",
              "      <td>0</td>\n",
              "      <td>0</td>\n",
              "      <td>0</td>\n",
              "      <td>0</td>\n",
              "      <td>0</td>\n",
              "      <td>0</td>\n",
              "      <td>0</td>\n",
              "      <td>0</td>\n",
              "      <td>0</td>\n",
              "      <td>0</td>\n",
              "      <td>0</td>\n",
              "      <td>0</td>\n",
              "      <td>0</td>\n",
              "      <td>0</td>\n",
              "      <td>0</td>\n",
              "      <td>0</td>\n",
              "      <td>0</td>\n",
              "      <td>0</td>\n",
              "      <td>0</td>\n",
              "      <td>0</td>\n",
              "      <td>0</td>\n",
              "      <td>0</td>\n",
              "      <td>0</td>\n",
              "      <td>0</td>\n",
              "      <td>0</td>\n",
              "      <td>0</td>\n",
              "      <td>0</td>\n",
              "      <td>...</td>\n",
              "      <td>0</td>\n",
              "      <td>0</td>\n",
              "      <td>0</td>\n",
              "      <td>0</td>\n",
              "      <td>0</td>\n",
              "      <td>0</td>\n",
              "      <td>0</td>\n",
              "      <td>0</td>\n",
              "      <td>0</td>\n",
              "      <td>0</td>\n",
              "      <td>0</td>\n",
              "      <td>0</td>\n",
              "      <td>0</td>\n",
              "      <td>0</td>\n",
              "      <td>0</td>\n",
              "      <td>0</td>\n",
              "      <td>0</td>\n",
              "      <td>0</td>\n",
              "      <td>0</td>\n",
              "      <td>0</td>\n",
              "      <td>0</td>\n",
              "      <td>0</td>\n",
              "      <td>0</td>\n",
              "      <td>0</td>\n",
              "      <td>0</td>\n",
              "      <td>0</td>\n",
              "      <td>0</td>\n",
              "      <td>0</td>\n",
              "      <td>0</td>\n",
              "      <td>0</td>\n",
              "      <td>0</td>\n",
              "      <td>0</td>\n",
              "      <td>0</td>\n",
              "      <td>0</td>\n",
              "      <td>0</td>\n",
              "      <td>0</td>\n",
              "      <td>0</td>\n",
              "      <td>0</td>\n",
              "      <td>0</td>\n",
              "      <td>0</td>\n",
              "    </tr>\n",
              "    <tr>\n",
              "      <th>703.0</th>\n",
              "      <td>0</td>\n",
              "      <td>0</td>\n",
              "      <td>0</td>\n",
              "      <td>0</td>\n",
              "      <td>0</td>\n",
              "      <td>0</td>\n",
              "      <td>1</td>\n",
              "      <td>0</td>\n",
              "      <td>0</td>\n",
              "      <td>0</td>\n",
              "      <td>0</td>\n",
              "      <td>0</td>\n",
              "      <td>0</td>\n",
              "      <td>0</td>\n",
              "      <td>0</td>\n",
              "      <td>0</td>\n",
              "      <td>0</td>\n",
              "      <td>0</td>\n",
              "      <td>0</td>\n",
              "      <td>0</td>\n",
              "      <td>0</td>\n",
              "      <td>0</td>\n",
              "      <td>0</td>\n",
              "      <td>0</td>\n",
              "      <td>0</td>\n",
              "      <td>0</td>\n",
              "      <td>0</td>\n",
              "      <td>0</td>\n",
              "      <td>0</td>\n",
              "      <td>0</td>\n",
              "      <td>0</td>\n",
              "      <td>0</td>\n",
              "      <td>0</td>\n",
              "      <td>0</td>\n",
              "      <td>0</td>\n",
              "      <td>0</td>\n",
              "      <td>0</td>\n",
              "      <td>0</td>\n",
              "      <td>0</td>\n",
              "      <td>0</td>\n",
              "      <td>...</td>\n",
              "      <td>0</td>\n",
              "      <td>0</td>\n",
              "      <td>0</td>\n",
              "      <td>0</td>\n",
              "      <td>0</td>\n",
              "      <td>0</td>\n",
              "      <td>0</td>\n",
              "      <td>0</td>\n",
              "      <td>0</td>\n",
              "      <td>0</td>\n",
              "      <td>0</td>\n",
              "      <td>0</td>\n",
              "      <td>0</td>\n",
              "      <td>0</td>\n",
              "      <td>0</td>\n",
              "      <td>0</td>\n",
              "      <td>0</td>\n",
              "      <td>0</td>\n",
              "      <td>0</td>\n",
              "      <td>0</td>\n",
              "      <td>0</td>\n",
              "      <td>0</td>\n",
              "      <td>0</td>\n",
              "      <td>0</td>\n",
              "      <td>0</td>\n",
              "      <td>0</td>\n",
              "      <td>0</td>\n",
              "      <td>0</td>\n",
              "      <td>0</td>\n",
              "      <td>0</td>\n",
              "      <td>0</td>\n",
              "      <td>0</td>\n",
              "      <td>0</td>\n",
              "      <td>0</td>\n",
              "      <td>0</td>\n",
              "      <td>0</td>\n",
              "      <td>0</td>\n",
              "      <td>0</td>\n",
              "      <td>0</td>\n",
              "      <td>0</td>\n",
              "    </tr>\n",
              "    <tr>\n",
              "      <th>...</th>\n",
              "      <td>...</td>\n",
              "      <td>...</td>\n",
              "      <td>...</td>\n",
              "      <td>...</td>\n",
              "      <td>...</td>\n",
              "      <td>...</td>\n",
              "      <td>...</td>\n",
              "      <td>...</td>\n",
              "      <td>...</td>\n",
              "      <td>...</td>\n",
              "      <td>...</td>\n",
              "      <td>...</td>\n",
              "      <td>...</td>\n",
              "      <td>...</td>\n",
              "      <td>...</td>\n",
              "      <td>...</td>\n",
              "      <td>...</td>\n",
              "      <td>...</td>\n",
              "      <td>...</td>\n",
              "      <td>...</td>\n",
              "      <td>...</td>\n",
              "      <td>...</td>\n",
              "      <td>...</td>\n",
              "      <td>...</td>\n",
              "      <td>...</td>\n",
              "      <td>...</td>\n",
              "      <td>...</td>\n",
              "      <td>...</td>\n",
              "      <td>...</td>\n",
              "      <td>...</td>\n",
              "      <td>...</td>\n",
              "      <td>...</td>\n",
              "      <td>...</td>\n",
              "      <td>...</td>\n",
              "      <td>...</td>\n",
              "      <td>...</td>\n",
              "      <td>...</td>\n",
              "      <td>...</td>\n",
              "      <td>...</td>\n",
              "      <td>...</td>\n",
              "      <td>...</td>\n",
              "      <td>...</td>\n",
              "      <td>...</td>\n",
              "      <td>...</td>\n",
              "      <td>...</td>\n",
              "      <td>...</td>\n",
              "      <td>...</td>\n",
              "      <td>...</td>\n",
              "      <td>...</td>\n",
              "      <td>...</td>\n",
              "      <td>...</td>\n",
              "      <td>...</td>\n",
              "      <td>...</td>\n",
              "      <td>...</td>\n",
              "      <td>...</td>\n",
              "      <td>...</td>\n",
              "      <td>...</td>\n",
              "      <td>...</td>\n",
              "      <td>...</td>\n",
              "      <td>...</td>\n",
              "      <td>...</td>\n",
              "      <td>...</td>\n",
              "      <td>...</td>\n",
              "      <td>...</td>\n",
              "      <td>...</td>\n",
              "      <td>...</td>\n",
              "      <td>...</td>\n",
              "      <td>...</td>\n",
              "      <td>...</td>\n",
              "      <td>...</td>\n",
              "      <td>...</td>\n",
              "      <td>...</td>\n",
              "      <td>...</td>\n",
              "      <td>...</td>\n",
              "      <td>...</td>\n",
              "      <td>...</td>\n",
              "      <td>...</td>\n",
              "      <td>...</td>\n",
              "      <td>...</td>\n",
              "      <td>...</td>\n",
              "      <td>...</td>\n",
              "    </tr>\n",
              "    <tr>\n",
              "      <th>31665.0</th>\n",
              "      <td>0</td>\n",
              "      <td>0</td>\n",
              "      <td>0</td>\n",
              "      <td>0</td>\n",
              "      <td>0</td>\n",
              "      <td>0</td>\n",
              "      <td>0</td>\n",
              "      <td>0</td>\n",
              "      <td>0</td>\n",
              "      <td>0</td>\n",
              "      <td>0</td>\n",
              "      <td>0</td>\n",
              "      <td>0</td>\n",
              "      <td>0</td>\n",
              "      <td>0</td>\n",
              "      <td>0</td>\n",
              "      <td>0</td>\n",
              "      <td>0</td>\n",
              "      <td>0</td>\n",
              "      <td>0</td>\n",
              "      <td>0</td>\n",
              "      <td>0</td>\n",
              "      <td>0</td>\n",
              "      <td>0</td>\n",
              "      <td>0</td>\n",
              "      <td>0</td>\n",
              "      <td>0</td>\n",
              "      <td>0</td>\n",
              "      <td>0</td>\n",
              "      <td>0</td>\n",
              "      <td>0</td>\n",
              "      <td>0</td>\n",
              "      <td>0</td>\n",
              "      <td>0</td>\n",
              "      <td>0</td>\n",
              "      <td>0</td>\n",
              "      <td>0</td>\n",
              "      <td>0</td>\n",
              "      <td>0</td>\n",
              "      <td>0</td>\n",
              "      <td>...</td>\n",
              "      <td>0</td>\n",
              "      <td>0</td>\n",
              "      <td>0</td>\n",
              "      <td>0</td>\n",
              "      <td>0</td>\n",
              "      <td>0</td>\n",
              "      <td>0</td>\n",
              "      <td>0</td>\n",
              "      <td>0</td>\n",
              "      <td>0</td>\n",
              "      <td>0</td>\n",
              "      <td>0</td>\n",
              "      <td>0</td>\n",
              "      <td>0</td>\n",
              "      <td>0</td>\n",
              "      <td>0</td>\n",
              "      <td>0</td>\n",
              "      <td>0</td>\n",
              "      <td>0</td>\n",
              "      <td>0</td>\n",
              "      <td>0</td>\n",
              "      <td>0</td>\n",
              "      <td>0</td>\n",
              "      <td>0</td>\n",
              "      <td>0</td>\n",
              "      <td>0</td>\n",
              "      <td>0</td>\n",
              "      <td>0</td>\n",
              "      <td>0</td>\n",
              "      <td>0</td>\n",
              "      <td>0</td>\n",
              "      <td>0</td>\n",
              "      <td>0</td>\n",
              "      <td>0</td>\n",
              "      <td>0</td>\n",
              "      <td>1</td>\n",
              "      <td>0</td>\n",
              "      <td>0</td>\n",
              "      <td>0</td>\n",
              "      <td>0</td>\n",
              "    </tr>\n",
              "    <tr>\n",
              "      <th>32271.0</th>\n",
              "      <td>0</td>\n",
              "      <td>0</td>\n",
              "      <td>0</td>\n",
              "      <td>0</td>\n",
              "      <td>0</td>\n",
              "      <td>0</td>\n",
              "      <td>0</td>\n",
              "      <td>0</td>\n",
              "      <td>0</td>\n",
              "      <td>0</td>\n",
              "      <td>0</td>\n",
              "      <td>0</td>\n",
              "      <td>0</td>\n",
              "      <td>0</td>\n",
              "      <td>0</td>\n",
              "      <td>0</td>\n",
              "      <td>0</td>\n",
              "      <td>0</td>\n",
              "      <td>0</td>\n",
              "      <td>0</td>\n",
              "      <td>0</td>\n",
              "      <td>0</td>\n",
              "      <td>0</td>\n",
              "      <td>0</td>\n",
              "      <td>0</td>\n",
              "      <td>0</td>\n",
              "      <td>0</td>\n",
              "      <td>0</td>\n",
              "      <td>0</td>\n",
              "      <td>0</td>\n",
              "      <td>0</td>\n",
              "      <td>0</td>\n",
              "      <td>0</td>\n",
              "      <td>0</td>\n",
              "      <td>0</td>\n",
              "      <td>0</td>\n",
              "      <td>0</td>\n",
              "      <td>0</td>\n",
              "      <td>0</td>\n",
              "      <td>0</td>\n",
              "      <td>...</td>\n",
              "      <td>0</td>\n",
              "      <td>0</td>\n",
              "      <td>0</td>\n",
              "      <td>0</td>\n",
              "      <td>0</td>\n",
              "      <td>0</td>\n",
              "      <td>0</td>\n",
              "      <td>0</td>\n",
              "      <td>0</td>\n",
              "      <td>0</td>\n",
              "      <td>0</td>\n",
              "      <td>0</td>\n",
              "      <td>0</td>\n",
              "      <td>0</td>\n",
              "      <td>0</td>\n",
              "      <td>0</td>\n",
              "      <td>0</td>\n",
              "      <td>0</td>\n",
              "      <td>0</td>\n",
              "      <td>0</td>\n",
              "      <td>0</td>\n",
              "      <td>0</td>\n",
              "      <td>0</td>\n",
              "      <td>0</td>\n",
              "      <td>0</td>\n",
              "      <td>0</td>\n",
              "      <td>0</td>\n",
              "      <td>0</td>\n",
              "      <td>0</td>\n",
              "      <td>0</td>\n",
              "      <td>0</td>\n",
              "      <td>0</td>\n",
              "      <td>0</td>\n",
              "      <td>1</td>\n",
              "      <td>0</td>\n",
              "      <td>0</td>\n",
              "      <td>0</td>\n",
              "      <td>0</td>\n",
              "      <td>0</td>\n",
              "      <td>0</td>\n",
              "    </tr>\n",
              "    <tr>\n",
              "      <th>32400.0</th>\n",
              "      <td>0</td>\n",
              "      <td>0</td>\n",
              "      <td>0</td>\n",
              "      <td>0</td>\n",
              "      <td>0</td>\n",
              "      <td>0</td>\n",
              "      <td>0</td>\n",
              "      <td>0</td>\n",
              "      <td>0</td>\n",
              "      <td>0</td>\n",
              "      <td>0</td>\n",
              "      <td>0</td>\n",
              "      <td>0</td>\n",
              "      <td>0</td>\n",
              "      <td>0</td>\n",
              "      <td>0</td>\n",
              "      <td>0</td>\n",
              "      <td>0</td>\n",
              "      <td>0</td>\n",
              "      <td>0</td>\n",
              "      <td>0</td>\n",
              "      <td>0</td>\n",
              "      <td>0</td>\n",
              "      <td>0</td>\n",
              "      <td>0</td>\n",
              "      <td>0</td>\n",
              "      <td>0</td>\n",
              "      <td>0</td>\n",
              "      <td>0</td>\n",
              "      <td>0</td>\n",
              "      <td>0</td>\n",
              "      <td>0</td>\n",
              "      <td>0</td>\n",
              "      <td>0</td>\n",
              "      <td>0</td>\n",
              "      <td>0</td>\n",
              "      <td>0</td>\n",
              "      <td>0</td>\n",
              "      <td>0</td>\n",
              "      <td>0</td>\n",
              "      <td>...</td>\n",
              "      <td>0</td>\n",
              "      <td>0</td>\n",
              "      <td>0</td>\n",
              "      <td>0</td>\n",
              "      <td>0</td>\n",
              "      <td>0</td>\n",
              "      <td>0</td>\n",
              "      <td>0</td>\n",
              "      <td>0</td>\n",
              "      <td>0</td>\n",
              "      <td>0</td>\n",
              "      <td>0</td>\n",
              "      <td>0</td>\n",
              "      <td>0</td>\n",
              "      <td>0</td>\n",
              "      <td>0</td>\n",
              "      <td>0</td>\n",
              "      <td>0</td>\n",
              "      <td>0</td>\n",
              "      <td>0</td>\n",
              "      <td>0</td>\n",
              "      <td>0</td>\n",
              "      <td>0</td>\n",
              "      <td>0</td>\n",
              "      <td>0</td>\n",
              "      <td>0</td>\n",
              "      <td>0</td>\n",
              "      <td>0</td>\n",
              "      <td>0</td>\n",
              "      <td>0</td>\n",
              "      <td>0</td>\n",
              "      <td>0</td>\n",
              "      <td>0</td>\n",
              "      <td>0</td>\n",
              "      <td>1</td>\n",
              "      <td>0</td>\n",
              "      <td>0</td>\n",
              "      <td>0</td>\n",
              "      <td>0</td>\n",
              "      <td>0</td>\n",
              "    </tr>\n",
              "    <tr>\n",
              "      <th>32547.0</th>\n",
              "      <td>0</td>\n",
              "      <td>0</td>\n",
              "      <td>0</td>\n",
              "      <td>0</td>\n",
              "      <td>0</td>\n",
              "      <td>0</td>\n",
              "      <td>0</td>\n",
              "      <td>0</td>\n",
              "      <td>0</td>\n",
              "      <td>0</td>\n",
              "      <td>0</td>\n",
              "      <td>0</td>\n",
              "      <td>0</td>\n",
              "      <td>0</td>\n",
              "      <td>0</td>\n",
              "      <td>0</td>\n",
              "      <td>0</td>\n",
              "      <td>0</td>\n",
              "      <td>0</td>\n",
              "      <td>0</td>\n",
              "      <td>0</td>\n",
              "      <td>0</td>\n",
              "      <td>0</td>\n",
              "      <td>0</td>\n",
              "      <td>0</td>\n",
              "      <td>0</td>\n",
              "      <td>0</td>\n",
              "      <td>0</td>\n",
              "      <td>0</td>\n",
              "      <td>0</td>\n",
              "      <td>0</td>\n",
              "      <td>0</td>\n",
              "      <td>0</td>\n",
              "      <td>0</td>\n",
              "      <td>0</td>\n",
              "      <td>0</td>\n",
              "      <td>0</td>\n",
              "      <td>0</td>\n",
              "      <td>0</td>\n",
              "      <td>0</td>\n",
              "      <td>...</td>\n",
              "      <td>0</td>\n",
              "      <td>0</td>\n",
              "      <td>0</td>\n",
              "      <td>0</td>\n",
              "      <td>0</td>\n",
              "      <td>0</td>\n",
              "      <td>0</td>\n",
              "      <td>0</td>\n",
              "      <td>0</td>\n",
              "      <td>0</td>\n",
              "      <td>0</td>\n",
              "      <td>0</td>\n",
              "      <td>0</td>\n",
              "      <td>0</td>\n",
              "      <td>0</td>\n",
              "      <td>0</td>\n",
              "      <td>0</td>\n",
              "      <td>0</td>\n",
              "      <td>0</td>\n",
              "      <td>0</td>\n",
              "      <td>0</td>\n",
              "      <td>0</td>\n",
              "      <td>0</td>\n",
              "      <td>0</td>\n",
              "      <td>0</td>\n",
              "      <td>0</td>\n",
              "      <td>0</td>\n",
              "      <td>0</td>\n",
              "      <td>0</td>\n",
              "      <td>0</td>\n",
              "      <td>0</td>\n",
              "      <td>0</td>\n",
              "      <td>0</td>\n",
              "      <td>0</td>\n",
              "      <td>0</td>\n",
              "      <td>0</td>\n",
              "      <td>0</td>\n",
              "      <td>0</td>\n",
              "      <td>1</td>\n",
              "      <td>0</td>\n",
              "    </tr>\n",
              "    <tr>\n",
              "      <th>41551.0</th>\n",
              "      <td>0</td>\n",
              "      <td>0</td>\n",
              "      <td>0</td>\n",
              "      <td>0</td>\n",
              "      <td>0</td>\n",
              "      <td>0</td>\n",
              "      <td>0</td>\n",
              "      <td>0</td>\n",
              "      <td>0</td>\n",
              "      <td>0</td>\n",
              "      <td>0</td>\n",
              "      <td>0</td>\n",
              "      <td>0</td>\n",
              "      <td>0</td>\n",
              "      <td>0</td>\n",
              "      <td>0</td>\n",
              "      <td>0</td>\n",
              "      <td>0</td>\n",
              "      <td>0</td>\n",
              "      <td>0</td>\n",
              "      <td>0</td>\n",
              "      <td>0</td>\n",
              "      <td>0</td>\n",
              "      <td>0</td>\n",
              "      <td>0</td>\n",
              "      <td>0</td>\n",
              "      <td>0</td>\n",
              "      <td>0</td>\n",
              "      <td>0</td>\n",
              "      <td>0</td>\n",
              "      <td>0</td>\n",
              "      <td>0</td>\n",
              "      <td>0</td>\n",
              "      <td>0</td>\n",
              "      <td>0</td>\n",
              "      <td>0</td>\n",
              "      <td>0</td>\n",
              "      <td>0</td>\n",
              "      <td>0</td>\n",
              "      <td>0</td>\n",
              "      <td>...</td>\n",
              "      <td>0</td>\n",
              "      <td>0</td>\n",
              "      <td>0</td>\n",
              "      <td>0</td>\n",
              "      <td>0</td>\n",
              "      <td>0</td>\n",
              "      <td>0</td>\n",
              "      <td>0</td>\n",
              "      <td>0</td>\n",
              "      <td>0</td>\n",
              "      <td>0</td>\n",
              "      <td>0</td>\n",
              "      <td>0</td>\n",
              "      <td>0</td>\n",
              "      <td>0</td>\n",
              "      <td>0</td>\n",
              "      <td>0</td>\n",
              "      <td>0</td>\n",
              "      <td>0</td>\n",
              "      <td>0</td>\n",
              "      <td>0</td>\n",
              "      <td>0</td>\n",
              "      <td>0</td>\n",
              "      <td>0</td>\n",
              "      <td>0</td>\n",
              "      <td>0</td>\n",
              "      <td>0</td>\n",
              "      <td>0</td>\n",
              "      <td>0</td>\n",
              "      <td>0</td>\n",
              "      <td>0</td>\n",
              "      <td>0</td>\n",
              "      <td>0</td>\n",
              "      <td>0</td>\n",
              "      <td>0</td>\n",
              "      <td>0</td>\n",
              "      <td>0</td>\n",
              "      <td>0</td>\n",
              "      <td>0</td>\n",
              "      <td>0</td>\n",
              "    </tr>\n",
              "  </tbody>\n",
              "</table>\n",
              "<p>14147 rows × 2849 columns</p>\n",
              "</div>"
            ],
            "text/plain": [
              "Customers  0.0     1.0     75.0    82.0    ...  4729.0  4762.0  4783.0  4985.0\n",
              "Sales                                      ...                                \n",
              "0.0         15235       0       0       0  ...       0       0       0       0\n",
              "1.0             0    4111       0       0  ...       0       0       0       0\n",
              "569.0           0       0       1       0  ...       0       0       0       0\n",
              "702.0           0       0       0       0  ...       0       0       0       0\n",
              "703.0           0       0       0       0  ...       0       0       0       0\n",
              "...           ...     ...     ...     ...  ...     ...     ...     ...     ...\n",
              "31665.0         0       0       0       0  ...       0       0       0       0\n",
              "32271.0         0       0       0       0  ...       0       0       0       0\n",
              "32400.0         0       0       0       0  ...       0       0       0       0\n",
              "32547.0         0       0       0       0  ...       0       0       1       0\n",
              "41551.0         0       0       0       0  ...       0       0       0       0\n",
              "\n",
              "[14147 rows x 2849 columns]"
            ]
          },
          "metadata": {
            "tags": []
          },
          "execution_count": 107
        }
      ]
    },
    {
      "cell_type": "code",
      "metadata": {
        "colab": {
          "base_uri": "https://localhost:8080/",
          "height": 137
        },
        "id": "6bDmlPBXHv2J",
        "outputId": "61e08347-886d-4f85-a74f-b2d83683c651"
      },
      "source": [
        "pd.crosstab(train[\"Sales\"]==0,train[\"Customers\"]>0)\r\n",
        "#Il n'existe pas de cas ou on n'a pas de chiffre d'affaire >0 dans une journée quand on a des clients"
      ],
      "execution_count": null,
      "outputs": [
        {
          "output_type": "execute_result",
          "data": {
            "text/html": [
              "<div>\n",
              "<style scoped>\n",
              "    .dataframe tbody tr th:only-of-type {\n",
              "        vertical-align: middle;\n",
              "    }\n",
              "\n",
              "    .dataframe tbody tr th {\n",
              "        vertical-align: top;\n",
              "    }\n",
              "\n",
              "    .dataframe thead th {\n",
              "        text-align: right;\n",
              "    }\n",
              "</style>\n",
              "<table border=\"1\" class=\"dataframe\">\n",
              "  <thead>\n",
              "    <tr style=\"text-align: right;\">\n",
              "      <th>Customers</th>\n",
              "      <th>False</th>\n",
              "      <th>True</th>\n",
              "    </tr>\n",
              "    <tr>\n",
              "      <th>Sales</th>\n",
              "      <th></th>\n",
              "      <th></th>\n",
              "    </tr>\n",
              "  </thead>\n",
              "  <tbody>\n",
              "    <tr>\n",
              "      <th>False</th>\n",
              "      <td>1</td>\n",
              "      <td>261276</td>\n",
              "    </tr>\n",
              "    <tr>\n",
              "      <th>True</th>\n",
              "      <td>46942</td>\n",
              "      <td>0</td>\n",
              "    </tr>\n",
              "  </tbody>\n",
              "</table>\n",
              "</div>"
            ],
            "text/plain": [
              "Customers  False   True \n",
              "Sales                   \n",
              "False          1  261276\n",
              "True       46942       0"
            ]
          },
          "metadata": {
            "tags": []
          },
          "execution_count": 16
        }
      ]
    },
    {
      "cell_type": "code",
      "metadata": {
        "colab": {
          "base_uri": "https://localhost:8080/",
          "height": 437
        },
        "id": "Pp6UKkRYIzsc",
        "outputId": "778ad4d4-9053-47cf-cbfa-67b4e27b5706"
      },
      "source": [
        "pd.crosstab(train[\"Sales\"],train[\"Promo\"])\r\n",
        "\r\n",
        "#On peut en déduire que qu'il y ai promo ou pas on peut ne pas avoir de chiffre d'affaire\r\n",
        "#Analysons plus en détail \r\n"
      ],
      "execution_count": null,
      "outputs": [
        {
          "output_type": "execute_result",
          "data": {
            "text/html": [
              "<div>\n",
              "<style scoped>\n",
              "    .dataframe tbody tr th:only-of-type {\n",
              "        vertical-align: middle;\n",
              "    }\n",
              "\n",
              "    .dataframe tbody tr th {\n",
              "        vertical-align: top;\n",
              "    }\n",
              "\n",
              "    .dataframe thead th {\n",
              "        text-align: right;\n",
              "    }\n",
              "</style>\n",
              "<table border=\"1\" class=\"dataframe\">\n",
              "  <thead>\n",
              "    <tr style=\"text-align: right;\">\n",
              "      <th>Promo</th>\n",
              "      <th>0.0</th>\n",
              "      <th>1.0</th>\n",
              "    </tr>\n",
              "    <tr>\n",
              "      <th>Sales</th>\n",
              "      <th></th>\n",
              "      <th></th>\n",
              "    </tr>\n",
              "  </thead>\n",
              "  <tbody>\n",
              "    <tr>\n",
              "      <th>0.0</th>\n",
              "      <td>45726</td>\n",
              "      <td>1216</td>\n",
              "    </tr>\n",
              "    <tr>\n",
              "      <th>1.0</th>\n",
              "      <td>0</td>\n",
              "      <td>6140</td>\n",
              "    </tr>\n",
              "    <tr>\n",
              "      <th>46.0</th>\n",
              "      <td>1</td>\n",
              "      <td>0</td>\n",
              "    </tr>\n",
              "    <tr>\n",
              "      <th>124.0</th>\n",
              "      <td>1</td>\n",
              "      <td>0</td>\n",
              "    </tr>\n",
              "    <tr>\n",
              "      <th>530.0</th>\n",
              "      <td>1</td>\n",
              "      <td>0</td>\n",
              "    </tr>\n",
              "    <tr>\n",
              "      <th>...</th>\n",
              "      <td>...</td>\n",
              "      <td>...</td>\n",
              "    </tr>\n",
              "    <tr>\n",
              "      <th>33984.0</th>\n",
              "      <td>1</td>\n",
              "      <td>0</td>\n",
              "    </tr>\n",
              "    <tr>\n",
              "      <th>36417.0</th>\n",
              "      <td>1</td>\n",
              "      <td>0</td>\n",
              "    </tr>\n",
              "    <tr>\n",
              "      <th>37122.0</th>\n",
              "      <td>1</td>\n",
              "      <td>0</td>\n",
              "    </tr>\n",
              "    <tr>\n",
              "      <th>38722.0</th>\n",
              "      <td>0</td>\n",
              "      <td>1</td>\n",
              "    </tr>\n",
              "    <tr>\n",
              "      <th>41551.0</th>\n",
              "      <td>1</td>\n",
              "      <td>0</td>\n",
              "    </tr>\n",
              "  </tbody>\n",
              "</table>\n",
              "<p>17914 rows × 2 columns</p>\n",
              "</div>"
            ],
            "text/plain": [
              "Promo      0.0   1.0\n",
              "Sales               \n",
              "0.0      45726  1216\n",
              "1.0          0  6140\n",
              "46.0         1     0\n",
              "124.0        1     0\n",
              "530.0        1     0\n",
              "...        ...   ...\n",
              "33984.0      1     0\n",
              "36417.0      1     0\n",
              "37122.0      1     0\n",
              "38722.0      0     1\n",
              "41551.0      1     0\n",
              "\n",
              "[17914 rows x 2 columns]"
            ]
          },
          "metadata": {
            "tags": []
          },
          "execution_count": 17
        }
      ]
    },
    {
      "cell_type": "code",
      "metadata": {
        "colab": {
          "base_uri": "https://localhost:8080/",
          "height": 137
        },
        "id": "VpjVZ92_JQR_",
        "outputId": "e5f19496-0a77-495d-f1b3-68bf2b6f926f"
      },
      "source": [
        "pd.crosstab(train[\"Sales\"]>0,train[\"Promo\"]==0)\r\n",
        "#On peut en déduire que lorsqu'il n'y a pas de promos on a plus de cas dans lequel on a un chiffre d'affaire >0 / au cas ou il y une promo\r\n",
        "#Ca à l'air absurde mais il y a certains facteurs qui entrent en jeu comme par exemple:\r\n",
        "#Est-ce qu'un client qui a un besoin attendra une promotion avant d'acheter un article?"
      ],
      "execution_count": null,
      "outputs": [
        {
          "output_type": "execute_result",
          "data": {
            "text/html": [
              "<div>\n",
              "<style scoped>\n",
              "    .dataframe tbody tr th:only-of-type {\n",
              "        vertical-align: middle;\n",
              "    }\n",
              "\n",
              "    .dataframe tbody tr th {\n",
              "        vertical-align: top;\n",
              "    }\n",
              "\n",
              "    .dataframe thead th {\n",
              "        text-align: right;\n",
              "    }\n",
              "</style>\n",
              "<table border=\"1\" class=\"dataframe\">\n",
              "  <thead>\n",
              "    <tr style=\"text-align: right;\">\n",
              "      <th>Promo</th>\n",
              "      <th>False</th>\n",
              "      <th>True</th>\n",
              "    </tr>\n",
              "    <tr>\n",
              "      <th>Sales</th>\n",
              "      <th></th>\n",
              "      <th></th>\n",
              "    </tr>\n",
              "  </thead>\n",
              "  <tbody>\n",
              "    <tr>\n",
              "      <th>False</th>\n",
              "      <td>1217</td>\n",
              "      <td>45726</td>\n",
              "    </tr>\n",
              "    <tr>\n",
              "      <th>True</th>\n",
              "      <td>125559</td>\n",
              "      <td>135717</td>\n",
              "    </tr>\n",
              "  </tbody>\n",
              "</table>\n",
              "</div>"
            ],
            "text/plain": [
              "Promo   False   True \n",
              "Sales                \n",
              "False    1217   45726\n",
              "True   125559  135717"
            ]
          },
          "metadata": {
            "tags": []
          },
          "execution_count": 19
        }
      ]
    },
    {
      "cell_type": "code",
      "metadata": {
        "id": "l2u7dOsQaCi7"
      },
      "source": [
        "#Fonctions de data Mining\r\n",
        "def missing_split(data):\r\n",
        "    for i in data.select_dtypes(\"object\"):\r\n",
        "      data.loc[i]=data[i].apply(lambda x:int(len(str(x))))\r\n",
        "    for i in data.columns:\r\n",
        "      data[i]=data[i].apply(lambda x:0 if pd.isna(x) else x)\r\n",
        "      data[\"Date\"]=data[i].apply(lambda x:len(str(x)))\r\n",
        "      xtrain=data.drop(\"Sales\",axis=1)\r\n",
        "      ytrain=data[\"Sales\"]\r\n",
        "    train[train[\"StateHoliday\"]==\"b\"]=2\r\n",
        "    train[train[\"StateHoliday\"]==\"c\"]=3\r\n",
        "    train[train[\"StateHoliday\"]==\"a\"]=1\r\n",
        "    return xtrain,ytrain\r\n",
        " \r\n",
        "def split(data):\r\n",
        "  xtrain=data.drop(\"Sales\",axis=1)\r\n",
        "  ytrain=data[\"Sales\"]\r\n",
        "  return xtrain,ytrain\r\n",
        "def reduce_variance(data):\r\n",
        "  sc= StandardScaler()\r\n",
        "  data=sc.fit_transform(data)\r\n",
        "  return data"
      ],
      "execution_count": 36,
      "outputs": []
    },
    {
      "cell_type": "code",
      "metadata": {
        "colab": {
          "base_uri": "https://localhost:8080/",
          "height": 573
        },
        "id": "yyAHXadc3LPg",
        "outputId": "93470ab9-2cbf-4f3f-8212-1b14cd761f33"
      },
      "source": [
        "#Data vizualisation de nos variables\r\n",
        "# Variables continues\r\n",
        "for i in train.select_dtypes(\"int\"):\r\n",
        "  plt.figure()\r\n",
        "  sb.histplot(train[i])\r\n",
        "  plt.title(i)\r\n",
        "\r\n",
        "\r\n"
      ],
      "execution_count": null,
      "outputs": [
        {
          "output_type": "display_data",
          "data": {
            "image/png": "[encoded data removed]",
            "text/plain": [
              "<Figure size 432x288 with 1 Axes>"
            ]
          },
          "metadata": {
            "tags": [],
            "needs_background": "light"
          }
        },
        {
          "output_type": "display_data",
          "data": {
            "image/png": "[encoded data removed]",
            "text/plain": [
              "<Figure size 432x288 with 1 Axes>"
            ]
          },
          "metadata": {
            "tags": [],
            "needs_background": "light"
          }
        }
      ]
    },
    {
      "cell_type": "code",
      "metadata": {
        "colab": {
          "base_uri": "https://localhost:8080/",
          "height": 1000
        },
        "id": "UpHICiSAAQ7b",
        "outputId": "1d86f6dc-246c-42a8-fd97-0418025fa049"
      },
      "source": [
        "# Variables de type float\r\n",
        "for i in train.select_dtypes(\"float\"):\r\n",
        "  plt.figure()\r\n",
        "  sb.histplot(train[i])\r\n",
        "  plt.title(i)"
      ],
      "execution_count": null,
      "outputs": [
        {
          "output_type": "display_data",
          "data": {
            "image/png": "[encoded data removed]",
            "text/plain": [
              "<Figure size 432x288 with 1 Axes>"
            ]
          },
          "metadata": {
            "tags": [],
            "needs_background": "light"
          }
        },
        {
          "output_type": "display_data",
          "data": {
            "image/png": "[encoded data removed]",
            "text/plain": [
              "<Figure size 432x288 with 1 Axes>"
            ]
          },
          "metadata": {
            "tags": [],
            "needs_background": "light"
          }
        },
        {
          "output_type": "display_data",
          "data": {
            "image/png": "[encoded data removed]",
            "text/plain": [
              "<Figure size 432x288 with 1 Axes>"
            ]
          },
          "metadata": {
            "tags": [],
            "needs_background": "light"
          }
        },
        {
          "output_type": "display_data",
          "data": {
            "image/png": "[encoded data removed]",
            "text/plain": [
              "<Figure size 432x288 with 1 Axes>"
            ]
          },
          "metadata": {
            "tags": [],
            "needs_background": "light"
          }
        },
        {
          "output_type": "display_data",
          "data": {
            "image/png": "[encoded data removed]",
            "text/plain": [
              "<Figure size 432x288 with 1 Axes>"
            ]
          },
          "metadata": {
            "tags": [],
            "needs_background": "light"
          }
        }
      ]
    },
    {
      "cell_type": "code",
      "metadata": {
        "colab": {
          "base_uri": "https://localhost:8080/",
          "height": 663
        },
        "id": "YB8zmzQlAeIx",
        "outputId": "09f9b43f-1934-4f1a-aeec-02a75727265a"
      },
      "source": [
        "# Variables discretes\r\n",
        "for i in train.select_dtypes(\"object\"):\r\n",
        "  plt.figure()\r\n",
        "  sb.countplot(train[i])\r\n",
        "  plt.title(i)"
      ],
      "execution_count": null,
      "outputs": [
        {
          "output_type": "stream",
          "text": [
            "/usr/local/lib/python3.7/dist-packages/seaborn/_decorators.py:43: FutureWarning: Pass the following variable as a keyword arg: x. From version 0.12, the only valid positional argument will be `data`, and passing other arguments without an explicit keyword will result in an error or misinterpretation.\n",
            "  FutureWarning\n",
            "/usr/local/lib/python3.7/dist-packages/seaborn/_decorators.py:43: FutureWarning: Pass the following variable as a keyword arg: x. From version 0.12, the only valid positional argument will be `data`, and passing other arguments without an explicit keyword will result in an error or misinterpretation.\n",
            "  FutureWarning\n"
          ],
          "name": "stderr"
        },
        {
          "output_type": "display_data",
          "data": {
            "image/png": "[encoded data removed]",
            "text/plain": [
              "<Figure size 432x288 with 1 Axes>"
            ]
          },
          "metadata": {
            "tags": [],
            "needs_background": "light"
          }
        },
        {
          "output_type": "display_data",
          "data": {
            "image/png": "[encoded data removed]",
            "text/plain": [
              "<Figure size 432x288 with 1 Axes>"
            ]
          },
          "metadata": {
            "tags": [],
            "needs_background": "light"
          }
        }
      ]
    },
    {
      "cell_type": "code",
      "metadata": {
        "colab": {
          "base_uri": "https://localhost:8080/",
          "height": 744
        },
        "id": "MI5NL--QBHVa",
        "outputId": "b14f6b7c-8c83-45ab-8d32-043e5a8a70cc"
      },
      "source": [
        "#\r\n",
        "sb.pairplot(train)"
      ],
      "execution_count": 19,
      "outputs": [
        {
          "output_type": "execute_result",
          "data": {
            "text/plain": [
              "<seaborn.axisgrid.PairGrid at 0x7fce891e8890>"
            ]
          },
          "metadata": {
            "tags": []
          },
          "execution_count": 19
        },
        {
          "output_type": "display_data",
          "data": {
            "image/png": "[encoded data removed]",
            "text/plain": [
              "<Figure size 1260x1260 with 56 Axes>"
            ]
          },
          "metadata": {
            "tags": [],
            "needs_background": "light"
          }
        }
      ]
    },
    {
      "cell_type": "code",
      "metadata": {
        "id": "rEqkMqd5Hk8c",
        "colab": {
          "base_uri": "https://localhost:8080/"
        },
        "outputId": "c37109aa-b7ee-44cb-b5c0-107be9a64842"
      },
      "source": [
        "\r\n",
        "xtrain,ytrain=missing_split(train)\r\n",
        "print(xtrain.shape,ytrain.shape)\r\n",
        "\r\n",
        "\r\n"
      ],
      "execution_count": 22,
      "outputs": [
        {
          "output_type": "stream",
          "text": [
            "(112105, 8) (112105,)\n"
          ],
          "name": "stdout"
        }
      ]
    },
    {
      "cell_type": "code",
      "metadata": {
        "colab": {
          "base_uri": "https://localhost:8080/"
        },
        "id": "xkQLrthJHo_7",
        "outputId": "0c8f7632-b8a9-455e-936a-1d02b2073abe"
      },
      "source": [
        "#Nous allons forcer nos variables à avoir une distribution proche d'une distribution normale en utilisant la loi normale standard \r\n",
        "#\r\n",
        "xtrain=reduce_variance(xtrain)\r\n",
        "xtrain.shape"
      ],
      "execution_count": 24,
      "outputs": [
        {
          "output_type": "execute_result",
          "data": {
            "text/plain": [
              "(112105, 8)"
            ]
          },
          "metadata": {
            "tags": []
          },
          "execution_count": 24
        }
      ]
    },
    {
      "cell_type": "code",
      "metadata": {
        "id": "wWvUaSaJIW_y"
      },
      "source": [
        " "
      ],
      "execution_count": null,
      "outputs": []
    },
    {
      "cell_type": "code",
      "metadata": {
        "id": "S84EKCixRbNx"
      },
      "source": [
        " ##################################################################################################################################################################################\r\n",
        " #Deux approches:\r\n",
        " #-DL\r\n",
        " #-ML"
      ],
      "execution_count": 25,
      "outputs": []
    },
    {
      "cell_type": "code",
      "metadata": {
        "id": "dwyhqUoeW185"
      },
      "source": [
        "################################################################## Prediction avec  Deep Learning  ##################################################################################\"\""
      ],
      "execution_count": null,
      "outputs": []
    },
    {
      "cell_type": "code",
      "metadata": {
        "id": "vRnWrboWonyj"
      },
      "source": [
        "#Simple reseau de neurones à 4 couches et noeuds\r\n",
        "\r\n",
        "\r\n"
      ],
      "execution_count": 26,
      "outputs": []
    },
    {
      "cell_type": "code",
      "metadata": {
        "id": "hVLUPWYfottZ"
      },
      "source": [
        "from tensorflow.keras import Sequential\r\n",
        "from tensorflow.keras.layers import Dense\r\n",
        "from tensorflow.keras import  activations\r\n",
        "from tensorflow.keras import metrics"
      ],
      "execution_count": 27,
      "outputs": []
    },
    {
      "cell_type": "code",
      "metadata": {
        "id": "Pe0zblUbpQWb"
      },
      "source": [
        "modele=Sequential()\r\n"
      ],
      "execution_count": 28,
      "outputs": []
    },
    {
      "cell_type": "code",
      "metadata": {
        "id": "F0JUwH1vsD6z"
      },
      "source": [
        "#couche d'entrée\r\n",
        "#La fonction d'activatrion utilisé est une fonction Linéaire\r\n",
        "modele.add(Dense(units=6,kernel_initializer=\"uniform\",activation=\"linear\",input_shape=(8,)))\r\n",
        "#Couche cachée\r\n",
        "modele.add(Dense(units=6,kernel_initializer=\"uniform\",activation=\"linear\"))\r\n",
        "modele.add(Dense(units=6,kernel_initializer=\"uniform\",activation=\"linear\"))\r\n",
        "#couche de sortie\r\n",
        "modele.add(Dense(units=1,kernel_initializer=\"uniform\",activation=\"linear\"))\r\n",
        "\r\n"
      ],
      "execution_count": 29,
      "outputs": []
    },
    {
      "cell_type": "code",
      "metadata": {
        "id": "MAHaPbvWwX2C"
      },
      "source": [
        "#Nous sommes en face d'un problème de régression on utilisera la somme du carré des résidus et la minimiser\r\n",
        "modele.compile(optimizer=\"adam\",loss=\"mse\",metrics=[\"mse\"])"
      ],
      "execution_count": 30,
      "outputs": []
    },
    {
      "cell_type": "code",
      "metadata": {
        "colab": {
          "base_uri": "https://localhost:8080/"
        },
        "id": "eOiAizEWxx97",
        "outputId": "26c4b830-88ba-4a83-fabc-a7f3e053e8ad"
      },
      "source": [
        "#Un rsumé de notre réseau avec les couches et les noeuds\r\n",
        "modele.summary()"
      ],
      "execution_count": 31,
      "outputs": [
        {
          "output_type": "stream",
          "text": [
            "Model: \"sequential\"\n",
            "_________________________________________________________________\n",
            "Layer (type)                 Output Shape              Param #   \n",
            "=================================================================\n",
            "dense (Dense)                (None, 6)                 54        \n",
            "_________________________________________________________________\n",
            "dense_1 (Dense)              (None, 6)                 42        \n",
            "_________________________________________________________________\n",
            "dense_2 (Dense)              (None, 6)                 42        \n",
            "_________________________________________________________________\n",
            "dense_3 (Dense)              (None, 1)                 7         \n",
            "=================================================================\n",
            "Total params: 145\n",
            "Trainable params: 145\n",
            "Non-trainable params: 0\n",
            "_________________________________________________________________\n"
          ],
          "name": "stdout"
        }
      ]
    },
    {
      "cell_type": "code",
      "metadata": {
        "colab": {
          "base_uri": "https://localhost:8080/"
        },
        "id": "qGc0uoU1x3ao",
        "outputId": "b032433c-bb2a-4e12-99b6-c26c73079bbf"
      },
      "source": [
        "modele.fit(xtrain,ytrain,epochs=100)"
      ],
      "execution_count": 32,
      "outputs": [
        {
          "output_type": "stream",
          "text": [
            "Epoch 1/100\n",
            "3504/3504 [==============================] - 4s 1ms/step - loss: 29250285.4685 - mse: 29250285.4685\n",
            "Epoch 2/100\n",
            "3504/3504 [==============================] - 4s 1ms/step - loss: 2313093.2595 - mse: 2313093.2595\n",
            "Epoch 3/100\n",
            "3504/3504 [==============================] - 4s 1ms/step - loss: 2333686.2039 - mse: 2333686.2039\n",
            "Epoch 4/100\n",
            "3504/3504 [==============================] - 4s 1ms/step - loss: 2310717.6687 - mse: 2310717.6687\n",
            "Epoch 5/100\n",
            "3504/3504 [==============================] - 4s 1ms/step - loss: 2314944.3544 - mse: 2314944.3544\n",
            "Epoch 6/100\n",
            "3504/3504 [==============================] - 4s 1ms/step - loss: 2352589.3739 - mse: 2352589.3739\n",
            "Epoch 7/100\n",
            "3504/3504 [==============================] - 4s 1ms/step - loss: 2347744.9607 - mse: 2347744.9607\n",
            "Epoch 8/100\n",
            "3504/3504 [==============================] - 4s 1ms/step - loss: 2315026.1002 - mse: 2315026.1002\n",
            "Epoch 9/100\n",
            "3504/3504 [==============================] - 4s 1ms/step - loss: 2313718.1728 - mse: 2313718.1728\n",
            "Epoch 10/100\n",
            "3504/3504 [==============================] - 4s 1ms/step - loss: 2310293.6993 - mse: 2310293.6993\n",
            "Epoch 11/100\n",
            "3504/3504 [==============================] - 4s 1ms/step - loss: 2357526.8546 - mse: 2357526.8546\n",
            "Epoch 12/100\n",
            "3504/3504 [==============================] - 4s 1ms/step - loss: 2369450.6201 - mse: 2369450.6201\n",
            "Epoch 13/100\n",
            "3504/3504 [==============================] - 4s 1ms/step - loss: 2336158.8012 - mse: 2336158.8012\n",
            "Epoch 14/100\n",
            "3504/3504 [==============================] - 4s 1ms/step - loss: 2344586.7333 - mse: 2344586.7333\n",
            "Epoch 15/100\n",
            "3504/3504 [==============================] - 4s 1ms/step - loss: 2366838.6032 - mse: 2366838.6032\n",
            "Epoch 16/100\n",
            "3504/3504 [==============================] - 4s 1ms/step - loss: 2315064.3077 - mse: 2315064.3077\n",
            "Epoch 17/100\n",
            "3504/3504 [==============================] - 4s 1ms/step - loss: 2378807.4863 - mse: 2378807.4863\n",
            "Epoch 18/100\n",
            "3504/3504 [==============================] - 4s 1ms/step - loss: 2333375.5849 - mse: 2333375.5849\n",
            "Epoch 19/100\n",
            "3504/3504 [==============================] - 4s 1ms/step - loss: 2332594.9501 - mse: 2332594.9501\n",
            "Epoch 20/100\n",
            "3504/3504 [==============================] - 4s 1ms/step - loss: 2312486.6431 - mse: 2312486.6431\n",
            "Epoch 21/100\n",
            "3504/3504 [==============================] - 4s 1ms/step - loss: 2355214.5618 - mse: 2355214.5618\n",
            "Epoch 22/100\n",
            "3504/3504 [==============================] - 4s 1ms/step - loss: 2308297.2925 - mse: 2308297.2925\n",
            "Epoch 23/100\n",
            "3504/3504 [==============================] - 4s 1ms/step - loss: 2330860.7146 - mse: 2330860.7146\n",
            "Epoch 24/100\n",
            "3504/3504 [==============================] - 4s 1ms/step - loss: 2346913.8852 - mse: 2346913.8852\n",
            "Epoch 25/100\n",
            "3504/3504 [==============================] - 4s 1ms/step - loss: 2311757.1123 - mse: 2311757.1123\n",
            "Epoch 26/100\n",
            "3504/3504 [==============================] - 4s 1ms/step - loss: 2281076.0974 - mse: 2281076.0974\n",
            "Epoch 27/100\n",
            "3504/3504 [==============================] - 4s 1ms/step - loss: 2328239.8022 - mse: 2328239.8022\n",
            "Epoch 28/100\n",
            "3504/3504 [==============================] - 4s 1ms/step - loss: 2401030.0849 - mse: 2401030.0849\n",
            "Epoch 29/100\n",
            "3504/3504 [==============================] - 4s 1ms/step - loss: 2330081.4589 - mse: 2330081.4589\n",
            "Epoch 30/100\n",
            "3504/3504 [==============================] - 4s 1ms/step - loss: 2316730.6397 - mse: 2316730.6397\n",
            "Epoch 31/100\n",
            "3504/3504 [==============================] - 4s 1ms/step - loss: 2340793.7166 - mse: 2340793.7166\n",
            "Epoch 32/100\n",
            "3504/3504 [==============================] - 4s 1ms/step - loss: 2342782.6237 - mse: 2342782.6237\n",
            "Epoch 33/100\n",
            "3504/3504 [==============================] - 4s 1ms/step - loss: 2393319.6063 - mse: 2393319.6063\n",
            "Epoch 34/100\n",
            "3504/3504 [==============================] - 4s 1ms/step - loss: 2360841.7389 - mse: 2360841.7389\n",
            "Epoch 35/100\n",
            "3504/3504 [==============================] - 4s 1ms/step - loss: 2365257.8897 - mse: 2365257.8897\n",
            "Epoch 36/100\n",
            "3504/3504 [==============================] - 4s 1ms/step - loss: 2291587.5416 - mse: 2291587.5416\n",
            "Epoch 37/100\n",
            "3504/3504 [==============================] - 4s 1ms/step - loss: 2336714.8194 - mse: 2336714.8194\n",
            "Epoch 38/100\n",
            "3504/3504 [==============================] - 4s 1ms/step - loss: 2283185.6705 - mse: 2283185.6705\n",
            "Epoch 39/100\n",
            "3504/3504 [==============================] - 4s 1ms/step - loss: 2328721.5281 - mse: 2328721.5281\n",
            "Epoch 40/100\n",
            "3504/3504 [==============================] - 4s 1ms/step - loss: 2342456.4945 - mse: 2342456.4945\n",
            "Epoch 41/100\n",
            "3504/3504 [==============================] - 4s 1ms/step - loss: 2340484.3484 - mse: 2340484.3484\n",
            "Epoch 42/100\n",
            "3504/3504 [==============================] - 4s 1ms/step - loss: 2322990.7851 - mse: 2322990.7851\n",
            "Epoch 43/100\n",
            "3504/3504 [==============================] - 4s 1ms/step - loss: 2318159.0948 - mse: 2318159.0948\n",
            "Epoch 44/100\n",
            "3504/3504 [==============================] - 4s 1ms/step - loss: 2329913.9876 - mse: 2329913.9876\n",
            "Epoch 45/100\n",
            "3504/3504 [==============================] - 4s 1ms/step - loss: 2368196.6713 - mse: 2368196.6713\n",
            "Epoch 46/100\n",
            "3504/3504 [==============================] - 4s 1ms/step - loss: 2346153.8232 - mse: 2346153.8232\n",
            "Epoch 47/100\n",
            "3504/3504 [==============================] - 4s 1ms/step - loss: 2341878.9947 - mse: 2341878.9947\n",
            "Epoch 48/100\n",
            "3504/3504 [==============================] - 4s 1ms/step - loss: 2352010.1555 - mse: 2352010.1555\n",
            "Epoch 49/100\n",
            "3504/3504 [==============================] - 4s 1ms/step - loss: 2343035.3365 - mse: 2343035.3365\n",
            "Epoch 50/100\n",
            "3504/3504 [==============================] - 4s 1ms/step - loss: 2301651.1178 - mse: 2301651.1178\n",
            "Epoch 51/100\n",
            "3504/3504 [==============================] - 4s 1ms/step - loss: 2290953.9254 - mse: 2290953.9254\n",
            "Epoch 52/100\n",
            "3504/3504 [==============================] - 4s 1ms/step - loss: 2303752.6978 - mse: 2303752.6978\n",
            "Epoch 53/100\n",
            "3504/3504 [==============================] - 4s 1ms/step - loss: 2298127.3798 - mse: 2298127.3798\n",
            "Epoch 54/100\n",
            "3504/3504 [==============================] - 4s 1ms/step - loss: 2324846.8841 - mse: 2324846.8841\n",
            "Epoch 55/100\n",
            "3504/3504 [==============================] - 4s 1ms/step - loss: 2331843.0086 - mse: 2331843.0086\n",
            "Epoch 56/100\n",
            "3504/3504 [==============================] - 4s 1ms/step - loss: 2364246.7656 - mse: 2364246.7656\n",
            "Epoch 57/100\n",
            "3504/3504 [==============================] - 4s 1ms/step - loss: 2401002.0198 - mse: 2401002.0198\n",
            "Epoch 58/100\n",
            "3504/3504 [==============================] - 4s 1ms/step - loss: 2361623.0011 - mse: 2361623.0011\n",
            "Epoch 59/100\n",
            "3504/3504 [==============================] - 4s 1ms/step - loss: 2332828.4257 - mse: 2332828.4257\n",
            "Epoch 60/100\n",
            "3504/3504 [==============================] - 4s 1ms/step - loss: 2330577.4299 - mse: 2330577.4299\n",
            "Epoch 61/100\n",
            "3504/3504 [==============================] - 4s 1ms/step - loss: 2289255.0408 - mse: 2289255.0408\n",
            "Epoch 62/100\n",
            "3504/3504 [==============================] - 4s 1ms/step - loss: 2300441.8952 - mse: 2300441.8952\n",
            "Epoch 63/100\n",
            "3504/3504 [==============================] - 4s 1ms/step - loss: 2295770.2657 - mse: 2295770.2657\n",
            "Epoch 64/100\n",
            "3504/3504 [==============================] - 4s 1ms/step - loss: 2322922.9204 - mse: 2322922.9204\n",
            "Epoch 65/100\n",
            "3504/3504 [==============================] - 4s 1ms/step - loss: 2343889.4713 - mse: 2343889.4713\n",
            "Epoch 66/100\n",
            "3504/3504 [==============================] - 4s 1ms/step - loss: 2347183.0808 - mse: 2347183.0808\n",
            "Epoch 67/100\n",
            "3504/3504 [==============================] - 4s 1ms/step - loss: 2324427.1967 - mse: 2324427.1967\n",
            "Epoch 68/100\n",
            "3504/3504 [==============================] - 4s 1ms/step - loss: 2342719.1557 - mse: 2342719.1557\n",
            "Epoch 69/100\n",
            "3504/3504 [==============================] - 4s 1ms/step - loss: 2286403.5893 - mse: 2286403.5893\n",
            "Epoch 70/100\n",
            "3504/3504 [==============================] - 4s 1ms/step - loss: 2318211.2363 - mse: 2318211.2363\n",
            "Epoch 71/100\n",
            "3504/3504 [==============================] - 4s 1ms/step - loss: 2342352.6735 - mse: 2342352.6735\n",
            "Epoch 72/100\n",
            "3504/3504 [==============================] - 4s 1ms/step - loss: 2310916.4527 - mse: 2310916.4527\n",
            "Epoch 73/100\n",
            "3504/3504 [==============================] - 4s 1ms/step - loss: 2354803.8177 - mse: 2354803.8177\n",
            "Epoch 74/100\n",
            "3504/3504 [==============================] - 4s 1ms/step - loss: 2353527.5902 - mse: 2353527.5902\n",
            "Epoch 75/100\n",
            "3504/3504 [==============================] - 4s 1ms/step - loss: 2292263.7787 - mse: 2292263.7787\n",
            "Epoch 76/100\n",
            "3504/3504 [==============================] - 4s 1ms/step - loss: 2346857.6881 - mse: 2346857.6881\n",
            "Epoch 77/100\n",
            "3504/3504 [==============================] - 4s 1ms/step - loss: 2313598.9479 - mse: 2313598.9479\n",
            "Epoch 78/100\n",
            "3504/3504 [==============================] - 4s 1ms/step - loss: 2339500.9579 - mse: 2339500.9579\n",
            "Epoch 79/100\n",
            "3504/3504 [==============================] - 4s 1ms/step - loss: 2324002.2846 - mse: 2324002.2846\n",
            "Epoch 80/100\n",
            "3504/3504 [==============================] - 4s 1ms/step - loss: 2306861.2964 - mse: 2306861.2964\n",
            "Epoch 81/100\n",
            "3504/3504 [==============================] - 4s 1ms/step - loss: 2316171.4542 - mse: 2316171.4542\n",
            "Epoch 82/100\n",
            "3504/3504 [==============================] - 4s 1ms/step - loss: 2308626.4041 - mse: 2308626.4041\n",
            "Epoch 83/100\n",
            "3504/3504 [==============================] - 4s 1ms/step - loss: 2348474.3412 - mse: 2348474.3412\n",
            "Epoch 84/100\n",
            "3504/3504 [==============================] - 4s 1ms/step - loss: 2321805.1735 - mse: 2321805.1735\n",
            "Epoch 85/100\n",
            "3504/3504 [==============================] - 4s 1ms/step - loss: 2312074.4632 - mse: 2312074.4632\n",
            "Epoch 86/100\n",
            "3504/3504 [==============================] - 4s 1ms/step - loss: 2348489.5473 - mse: 2348489.5473\n",
            "Epoch 87/100\n",
            "3504/3504 [==============================] - 4s 1ms/step - loss: 2343378.0047 - mse: 2343378.0047\n",
            "Epoch 88/100\n",
            "3504/3504 [==============================] - 4s 1ms/step - loss: 2337802.2293 - mse: 2337802.2293\n",
            "Epoch 89/100\n",
            "3504/3504 [==============================] - 4s 1ms/step - loss: 2293542.5563 - mse: 2293542.5563\n",
            "Epoch 90/100\n",
            "3504/3504 [==============================] - 4s 1ms/step - loss: 2324204.8306 - mse: 2324204.8306\n",
            "Epoch 91/100\n",
            "3504/3504 [==============================] - 4s 1ms/step - loss: 2361701.2577 - mse: 2361701.2577\n",
            "Epoch 92/100\n",
            "3504/3504 [==============================] - 4s 1ms/step - loss: 2326124.6760 - mse: 2326124.6760\n",
            "Epoch 93/100\n",
            "3504/3504 [==============================] - 4s 1ms/step - loss: 2320839.4430 - mse: 2320839.4430\n",
            "Epoch 94/100\n",
            "3504/3504 [==============================] - 4s 1ms/step - loss: 2354049.7635 - mse: 2354049.7635\n",
            "Epoch 95/100\n",
            "3504/3504 [==============================] - 4s 1ms/step - loss: 2312040.0981 - mse: 2312040.0981\n",
            "Epoch 96/100\n",
            "3504/3504 [==============================] - 4s 1ms/step - loss: 2342880.4399 - mse: 2342880.4399\n",
            "Epoch 97/100\n",
            "3504/3504 [==============================] - 4s 1ms/step - loss: 2333448.9340 - mse: 2333448.9340\n",
            "Epoch 98/100\n",
            "3504/3504 [==============================] - 4s 1ms/step - loss: 2301364.3066 - mse: 2301364.3066\n",
            "Epoch 99/100\n",
            "3504/3504 [==============================] - 4s 1ms/step - loss: 2308818.8116 - mse: 2308818.8116\n",
            "Epoch 100/100\n",
            "3504/3504 [==============================] - 4s 1ms/step - loss: 2344140.4810 - mse: 2344140.4810\n"
          ],
          "name": "stdout"
        },
        {
          "output_type": "execute_result",
          "data": {
            "text/plain": [
              "<tensorflow.python.keras.callbacks.History at 0x7fce4d6a0f10>"
            ]
          },
          "metadata": {
            "tags": []
          },
          "execution_count": 32
        }
      ]
    },
    {
      "cell_type": "code",
      "metadata": {
        "id": "fnoOel2GTWi5"
      },
      "source": [
        ""
      ],
      "execution_count": 33,
      "outputs": []
    },
    {
      "cell_type": "code",
      "metadata": {
        "id": "V50MoENMCGTM"
      },
      "source": [
        "for i in test.columns:\r\n",
        "  test[i]=test[i].apply(lambda x:0 if pd.isna(x) else x)\r\n",
        "for i in test.select_dtypes(\"object\"):\r\n",
        "  test[i]=test[i].apply(lambda x:int(len(str(x))))"
      ],
      "execution_count": 37,
      "outputs": []
    },
    {
      "cell_type": "code",
      "metadata": {
        "id": "2Lu_mjeeTY2O"
      },
      "source": [
        "test=sc.fit_transform(test)"
      ],
      "execution_count": 38,
      "outputs": []
    },
    {
      "cell_type": "code",
      "metadata": {
        "id": "_aGZI1v7TZBI"
      },
      "source": [
        "test=reduce_variance(test)"
      ],
      "execution_count": 39,
      "outputs": []
    },
    {
      "cell_type": "code",
      "metadata": {
        "id": "OWkXIKzpTZJw"
      },
      "source": [
        "ypredict=modele.predict(test)"
      ],
      "execution_count": 41,
      "outputs": []
    },
    {
      "cell_type": "code",
      "metadata": {
        "colab": {
          "base_uri": "https://localhost:8080/"
        },
        "id": "jrU18YRcTZL9",
        "outputId": "7620bb0b-79e8-45ca-ad4f-6390603a3236"
      },
      "source": [
        "ypredict"
      ],
      "execution_count": 42,
      "outputs": [
        {
          "output_type": "execute_result",
          "data": {
            "text/plain": [
              "array([[7621.195 ],\n",
              "       [7619.971 ],\n",
              "       [7617.5327],\n",
              "       ...,\n",
              "       [5214.1685],\n",
              "       [5213.553 ],\n",
              "       [5248.1177]], dtype=float32)"
            ]
          },
          "metadata": {
            "tags": []
          },
          "execution_count": 42
        }
      ]
    },
    {
      "cell_type": "code",
      "metadata": {
        "id": "EYg3LADGTZQL",
        "colab": {
          "base_uri": "https://localhost:8080/"
        },
        "outputId": "15f298af-09fe-469e-973a-88a152896c31"
      },
      "source": [
        "modele.evaluate(xtrain,ytrain)\r\n",
        "modele.evaluate(test,ypredict)"
      ],
      "execution_count": 252,
      "outputs": [
        {
          "output_type": "stream",
          "text": [
            "3504/3504 [==============================] - 3s 897us/step - loss: 2329647.7500 - mse: 2329647.7500\n",
            "1284/1284 [==============================] - 2s 1ms/step - loss: 9.6869e-08 - mse: 9.6869e-08\n"
          ],
          "name": "stdout"
        },
        {
          "output_type": "execute_result",
          "data": {
            "text/plain": [
              "[9.686915092288473e-08, 9.686915092288473e-08]"
            ]
          },
          "metadata": {
            "tags": []
          },
          "execution_count": 252
        }
      ]
    },
    {
      "cell_type": "code",
      "metadata": {
        "id": "_ds-1xdMTZSB"
      },
      "source": [
        "y=[]\r\n",
        "copy=test.copy()\r\n"
      ],
      "execution_count": 261,
      "outputs": []
    },
    {
      "cell_type": "code",
      "metadata": {
        "id": "xSkt2ZJQTZV-"
      },
      "source": [
        "for i in ypredict:\r\n",
        "  for j in i:\r\n",
        "    y.append(j)\r\n"
      ],
      "execution_count": 262,
      "outputs": []
    },
    {
      "cell_type": "code",
      "metadata": {
        "id": "npftgpgQTd7D"
      },
      "source": [
        "copy[\"Sales\"]=y\r\n"
      ],
      "execution_count": 264,
      "outputs": []
    },
    {
      "cell_type": "code",
      "metadata": {
        "id": "Dpa44IX9VDcm"
      },
      "source": [
        "\r\n",
        "kagg=pd.DataFrame(copy[[\"Id\",\"Sales\"]])"
      ],
      "execution_count": 265,
      "outputs": []
    },
    {
      "cell_type": "code",
      "metadata": {
        "id": "LANO0lL4WXa9"
      },
      "source": [
        " kagg.to_csv(\"res1.csv\",index=False)"
      ],
      "execution_count": 266,
      "outputs": []
    },
    {
      "cell_type": "code",
      "metadata": {
        "id": "aUZHa2ZoLA4x"
      },
      "source": [
        " ########################################################################## Prediction  avec du Machine learning #########################################################################"
      ],
      "execution_count": null,
      "outputs": []
    },
    {
      "cell_type": "code",
      "metadata": {
        "id": "JFrbjfqKPYTE",
        "colab": {
          "base_uri": "https://localhost:8080/",
          "height": 407
        },
        "outputId": "23102652-826b-420b-c965-05562dc7f79e"
      },
      "source": [
        "kagg"
      ],
      "execution_count": 243,
      "outputs": [
        {
          "output_type": "execute_result",
          "data": {
            "text/html": [
              "<div>\n",
              "<style scoped>\n",
              "    .dataframe tbody tr th:only-of-type {\n",
              "        vertical-align: middle;\n",
              "    }\n",
              "\n",
              "    .dataframe tbody tr th {\n",
              "        vertical-align: top;\n",
              "    }\n",
              "\n",
              "    .dataframe thead th {\n",
              "        text-align: right;\n",
              "    }\n",
              "</style>\n",
              "<table border=\"1\" class=\"dataframe\">\n",
              "  <thead>\n",
              "    <tr style=\"text-align: right;\">\n",
              "      <th></th>\n",
              "      <th>Id</th>\n",
              "      <th>Sales</th>\n",
              "    </tr>\n",
              "  </thead>\n",
              "  <tbody>\n",
              "    <tr>\n",
              "      <th>0</th>\n",
              "      <td>1</td>\n",
              "      <td>7621.194824</td>\n",
              "    </tr>\n",
              "    <tr>\n",
              "      <th>1</th>\n",
              "      <td>2</td>\n",
              "      <td>7619.971191</td>\n",
              "    </tr>\n",
              "    <tr>\n",
              "      <th>2</th>\n",
              "      <td>3</td>\n",
              "      <td>7617.532715</td>\n",
              "    </tr>\n",
              "    <tr>\n",
              "      <th>3</th>\n",
              "      <td>4</td>\n",
              "      <td>7616.917969</td>\n",
              "    </tr>\n",
              "    <tr>\n",
              "      <th>4</th>\n",
              "      <td>5</td>\n",
              "      <td>7616.303223</td>\n",
              "    </tr>\n",
              "    <tr>\n",
              "      <th>...</th>\n",
              "      <td>...</td>\n",
              "      <td>...</td>\n",
              "    </tr>\n",
              "    <tr>\n",
              "      <th>41083</th>\n",
              "      <td>41084</td>\n",
              "      <td>5215.398438</td>\n",
              "    </tr>\n",
              "    <tr>\n",
              "      <th>41084</th>\n",
              "      <td>41085</td>\n",
              "      <td>5214.782715</td>\n",
              "    </tr>\n",
              "    <tr>\n",
              "      <th>41085</th>\n",
              "      <td>41086</td>\n",
              "      <td>5214.168457</td>\n",
              "    </tr>\n",
              "    <tr>\n",
              "      <th>41086</th>\n",
              "      <td>41087</td>\n",
              "      <td>5213.553223</td>\n",
              "    </tr>\n",
              "    <tr>\n",
              "      <th>41087</th>\n",
              "      <td>41088</td>\n",
              "      <td>5248.117676</td>\n",
              "    </tr>\n",
              "  </tbody>\n",
              "</table>\n",
              "<p>41088 rows × 2 columns</p>\n",
              "</div>"
            ],
            "text/plain": [
              "          Id        Sales\n",
              "0          1  7621.194824\n",
              "1          2  7619.971191\n",
              "2          3  7617.532715\n",
              "3          4  7616.917969\n",
              "4          5  7616.303223\n",
              "...      ...          ...\n",
              "41083  41084  5215.398438\n",
              "41084  41085  5214.782715\n",
              "41085  41086  5214.168457\n",
              "41086  41087  5213.553223\n",
              "41087  41088  5248.117676\n",
              "\n",
              "[41088 rows x 2 columns]"
            ]
          },
          "metadata": {
            "tags": []
          },
          "execution_count": 243
        }
      ]
    },
    {
      "cell_type": "code",
      "metadata": {
        "id": "rNJtke_VmjuN",
        "colab": {
          "base_uri": "https://localhost:8080/",
          "height": 407
        },
        "outputId": "bd72c87e-1780-4319-bb34-7252fdf86948"
      },
      "source": [
        "kaggle"
      ],
      "execution_count": 244,
      "outputs": [
        {
          "output_type": "execute_result",
          "data": {
            "text/html": [
              "<div>\n",
              "<style scoped>\n",
              "    .dataframe tbody tr th:only-of-type {\n",
              "        vertical-align: middle;\n",
              "    }\n",
              "\n",
              "    .dataframe tbody tr th {\n",
              "        vertical-align: top;\n",
              "    }\n",
              "\n",
              "    .dataframe thead th {\n",
              "        text-align: right;\n",
              "    }\n",
              "</style>\n",
              "<table border=\"1\" class=\"dataframe\">\n",
              "  <thead>\n",
              "    <tr style=\"text-align: right;\">\n",
              "      <th></th>\n",
              "      <th>Id</th>\n",
              "      <th>Sales</th>\n",
              "    </tr>\n",
              "  </thead>\n",
              "  <tbody>\n",
              "    <tr>\n",
              "      <th>0</th>\n",
              "      <td>1</td>\n",
              "      <td>7621.194824</td>\n",
              "    </tr>\n",
              "    <tr>\n",
              "      <th>1</th>\n",
              "      <td>2</td>\n",
              "      <td>7619.971191</td>\n",
              "    </tr>\n",
              "    <tr>\n",
              "      <th>2</th>\n",
              "      <td>3</td>\n",
              "      <td>7617.532715</td>\n",
              "    </tr>\n",
              "    <tr>\n",
              "      <th>3</th>\n",
              "      <td>4</td>\n",
              "      <td>7616.917969</td>\n",
              "    </tr>\n",
              "    <tr>\n",
              "      <th>4</th>\n",
              "      <td>5</td>\n",
              "      <td>7616.303223</td>\n",
              "    </tr>\n",
              "    <tr>\n",
              "      <th>...</th>\n",
              "      <td>...</td>\n",
              "      <td>...</td>\n",
              "    </tr>\n",
              "    <tr>\n",
              "      <th>41083</th>\n",
              "      <td>41084</td>\n",
              "      <td>5215.398438</td>\n",
              "    </tr>\n",
              "    <tr>\n",
              "      <th>41084</th>\n",
              "      <td>41085</td>\n",
              "      <td>5214.782715</td>\n",
              "    </tr>\n",
              "    <tr>\n",
              "      <th>41085</th>\n",
              "      <td>41086</td>\n",
              "      <td>5214.168457</td>\n",
              "    </tr>\n",
              "    <tr>\n",
              "      <th>41086</th>\n",
              "      <td>41087</td>\n",
              "      <td>5213.553223</td>\n",
              "    </tr>\n",
              "    <tr>\n",
              "      <th>41087</th>\n",
              "      <td>41088</td>\n",
              "      <td>5248.117676</td>\n",
              "    </tr>\n",
              "  </tbody>\n",
              "</table>\n",
              "<p>41088 rows × 2 columns</p>\n",
              "</div>"
            ],
            "text/plain": [
              "          Id        Sales\n",
              "0          1  7621.194824\n",
              "1          2  7619.971191\n",
              "2          3  7617.532715\n",
              "3          4  7616.917969\n",
              "4          5  7616.303223\n",
              "...      ...          ...\n",
              "41083  41084  5215.398438\n",
              "41084  41085  5214.782715\n",
              "41085  41086  5214.168457\n",
              "41086  41087  5213.553223\n",
              "41087  41088  5248.117676\n",
              "\n",
              "[41088 rows x 2 columns]"
            ]
          },
          "metadata": {
            "tags": []
          },
          "execution_count": 244
        }
      ]
    },
    {
      "cell_type": "code",
      "metadata": {
        "id": "5cgaRVV_mj-e",
        "colab": {
          "base_uri": "https://localhost:8080/"
        },
        "outputId": "d3321890-91bd-4847-eaba-8ac078d3eb11"
      },
      "source": [
        "import sklearn\r\n",
        "from sklearn.model_selection import train_test_split\r\n",
        "from sklearn.linear_model import LinearRegression\r\n",
        "LinearRegression=LinearRegression()\r\n",
        "from sklearn.linear_model import Lasso\r\n",
        "Lasso=Lasso()\r\n",
        "from sklearn.linear_model import BayesianRidge\r\n",
        "BayesianRidge=BayesianRidge()\r\n",
        "from sklearn.linear_model import Ridge\r\n",
        "Ridge=Ridge()\r\n",
        "from sklearn.svm import  LinearSVR\r\n",
        "LinearSVR=LinearSVR()\r\n",
        "\r\n",
        "algo_ml={\"LinearRegression\":LinearRegression,\"LinearSVR\":LinearSVR,\"Lasso\":Lasso,\"BayesianRidge\":BayesianRidge,\"Ridger\":Ridge}\r\n",
        "for i in algo_ml.values():\r\n",
        "  "
      ],
      "execution_count": 114,
      "outputs": [
        {
          "output_type": "stream",
          "text": [
            "LinearRegression(copy_X=True, fit_intercept=True, n_jobs=None, normalize=False)\n",
            "0.8482625803271933\n",
            "LinearSVR(C=1.0, dual=True, epsilon=0.0, fit_intercept=True,\n",
            "          intercept_scaling=1.0, loss='epsilon_insensitive', max_iter=1000,\n",
            "          random_state=None, tol=0.0001, verbose=0)\n",
            "0.8439218873024286\n",
            "Lasso(alpha=1.0, copy_X=True, fit_intercept=True, max_iter=1000,\n",
            "      normalize=False, positive=False, precompute=False, random_state=None,\n",
            "      selection='cyclic', tol=0.0001, warm_start=False)\n",
            "0.8482621627534493\n",
            "BayesianRidge(alpha_1=1e-06, alpha_2=1e-06, alpha_init=None,\n",
            "              compute_score=False, copy_X=True, fit_intercept=True,\n",
            "              lambda_1=1e-06, lambda_2=1e-06, lambda_init=None, n_iter=300,\n",
            "              normalize=False, tol=0.001, verbose=False)\n",
            "0.8482625801683776\n",
            "Ridge(alpha=1.0, copy_X=True, fit_intercept=True, max_iter=None,\n",
            "      normalize=False, random_state=None, solver='auto', tol=0.001)\n",
            "0.8482625802810377\n"
          ],
          "name": "stdout"
        }
      ]
    },
    {
      "cell_type": "code",
      "metadata": {
        "id": "uKMJP9qwlDoH"
      },
      "source": [
        ""
      ],
      "execution_count": 80,
      "outputs": []
    },
    {
      "cell_type": "code",
      "metadata": {
        "id": "EDSXpGfsmn1q"
      },
      "source": [
        "from sklearn.model_selection import learning_curve\r\n",
        "def learn_predict_validation(algo_ml):\r\n",
        "  for i in algo_ml.values():\r\n",
        "    print(i)\r\n",
        "    print(i.score(xtrain,ytrain))\r\n",
        "    y=i.predict(test)\r\n",
        "    print(y)\r\n",
        "    gamma,train_score,val_score=learning_curve(i,xtrain,ytrain,cv=5,scoring=\"neg_root_mean_squared_error\")\r\n",
        "    plt.figure()\r\n",
        "    plt.plot(gamma,train_score.mean(axis=1))\r\n",
        "    plt.plot(gamma,val_score.mean(axis=1))\r\n",
        "    \r\n",
        "   \r\n",
        "    return "
      ],
      "execution_count": 134,
      "outputs": []
    },
    {
      "cell_type": "code",
      "metadata": {
        "id": "oiolGepSrSNP",
        "colab": {
          "base_uri": "https://localhost:8080/",
          "height": 1000
        },
        "outputId": "f635a083-f45b-4c5b-8db5-ffa399512f2f"
      },
      "source": [
        "for i in algo_ml.values():\r\n",
        "  print(i)\r\n",
        "  print(i.score(xtrain,ytrain))\r\n",
        "  y=i.predict(test)\r\n",
        "  print(y)\r\n",
        "  gamma,train_score,val_score=learning_curve(i,xtrain,ytrain,cv=5,scoring=\"neg_root_mean_squared_error\")\r\n",
        "  \r\n",
        "  plt.plot(gamma,train_score.mean(axis=1),label=\"train_score\")\r\n",
        "  plt.plot(gamma,val_score.mean(axis=1),label=\"val_score\")\r\n",
        "  plt.title(i)\r\n",
        "  plt.legend()\r\n",
        "  plt.figure()\r\n",
        "  print(\"Courbe d'apprentissage de \", i)"
      ],
      "execution_count": 159,
      "outputs": [
        {
          "output_type": "stream",
          "text": [
            "LinearRegression(copy_X=True, fit_intercept=True, n_jobs=None, normalize=False)\n",
            "0.8482625803271933\n",
            "[7536.63267903 7535.36958374 7532.8481328  ... 5216.83064269 5216.19672522\n",
            " 5210.383628  ]\n",
            "Courbe d'apprentissage de  LinearRegression(copy_X=True, fit_intercept=True, n_jobs=None, normalize=False)\n",
            "LinearSVR(C=1.0, dual=True, epsilon=0.0, fit_intercept=True,\n",
            "          intercept_scaling=1.0, loss='epsilon_insensitive', max_iter=1000,\n",
            "          random_state=None, tol=0.0001, verbose=0)\n",
            "0.8439218873024286\n",
            "[7048.95666269 7047.94745654 7045.92904541 ... 5188.98103161 5188.47642795\n",
            " 5181.1329192 ]\n",
            "Courbe d'apprentissage de  LinearSVR(C=1.0, dual=True, epsilon=0.0, fit_intercept=True,\n",
            "          intercept_scaling=1.0, loss='epsilon_insensitive', max_iter=1000,\n",
            "          random_state=None, tol=0.0001, verbose=0)\n",
            "Lasso(alpha=1.0, copy_X=True, fit_intercept=True, max_iter=1000,\n",
            "      normalize=False, positive=False, precompute=False, random_state=None,\n",
            "      selection='cyclic', tol=0.0001, warm_start=False)\n",
            "0.8482621627534493\n",
            "[7530.14318284 7528.88613822 7526.37666669 ... 5220.55142531 5219.92059415\n",
            " 5216.40198361]\n",
            "Courbe d'apprentissage de  Lasso(alpha=1.0, copy_X=True, fit_intercept=True, max_iter=1000,\n",
            "      normalize=False, positive=False, precompute=False, random_state=None,\n",
            "      selection='cyclic', tol=0.0001, warm_start=False)\n",
            "BayesianRidge(alpha_1=1e-06, alpha_2=1e-06, alpha_init=None,\n",
            "              compute_score=False, copy_X=True, fit_intercept=True,\n",
            "              lambda_1=1e-06, lambda_2=1e-06, lambda_init=None, n_iter=300,\n",
            "              normalize=False, tol=0.001, verbose=False)\n",
            "0.8482625801683776\n",
            "[7536.63933379 7535.37618658 7532.85463126 ... 5216.84288529 5216.20894213\n",
            " 5210.38993829]\n",
            "Courbe d'apprentissage de  BayesianRidge(alpha_1=1e-06, alpha_2=1e-06, alpha_init=None,\n",
            "              compute_score=False, copy_X=True, fit_intercept=True,\n",
            "              lambda_1=1e-06, lambda_2=1e-06, lambda_init=None, n_iter=300,\n",
            "              normalize=False, tol=0.001, verbose=False)\n",
            "Ridge(alpha=1.0, copy_X=True, fit_intercept=True, max_iter=None,\n",
            "      normalize=False, random_state=None, solver='auto', tol=0.001)\n",
            "0.8482625802810377\n",
            "[7536.6362667  7535.37314342 7532.85163621 ... 5216.83724268 5216.20331137\n",
            " 5210.38702991]\n",
            "Courbe d'apprentissage de  Ridge(alpha=1.0, copy_X=True, fit_intercept=True, max_iter=None,\n",
            "      normalize=False, random_state=None, solver='auto', tol=0.001)\n"
          ],
          "name": "stdout"
        },
        {
          "output_type": "display_data",
          "data": {
            "image/png": "[encoded data removed]",
            "text/plain": [
              "<Figure size 432x288 with 1 Axes>"
            ]
          },
          "metadata": {
            "tags": [],
            "needs_background": "light"
          }
        },
        {
          "output_type": "display_data",
          "data": {
            "image/png": "[encoded data removed]",
            "text/plain": [
              "<Figure size 432x288 with 1 Axes>"
            ]
          },
          "metadata": {
            "tags": [],
            "needs_background": "light"
          }
        },
        {
          "output_type": "display_data",
          "data": {
            "image/png": "[encoded data removed]",
            "text/plain": [
              "<Figure size 432x288 with 1 Axes>"
            ]
          },
          "metadata": {
            "tags": [],
            "needs_background": "light"
          }
        },
        {
          "output_type": "display_data",
          "data": {
            "image/png": "[encoded data removed]",
            "text/plain": [
              "<Figure size 432x288 with 1 Axes>"
            ]
          },
          "metadata": {
            "tags": [],
            "needs_background": "light"
          }
        },
        {
          "output_type": "display_data",
          "data": {
            "image/png": "[encoded data removed]",
            "text/plain": [
              "<Figure size 432x288 with 1 Axes>"
            ]
          },
          "metadata": {
            "tags": [],
            "needs_background": "light"
          }
        },
        {
          "output_type": "display_data",
          "data": {
            "text/plain": [
              "<Figure size 432x288 with 0 Axes>"
            ]
          },
          "metadata": {
            "tags": []
          }
        }
      ]
    },
    {
      "cell_type": "code",
      "metadata": {
        "id": "-N_EGo84f2oD"
      },
      "source": [
        "#sklearn.metrics.SCORERS.keys()"
      ],
      "execution_count": 160,
      "outputs": []
    },
    {
      "cell_type": "code",
      "metadata": {
        "id": "cj17CeM8j03r"
      },
      "source": [
        "# Le LinearSVR a le meilleur score 0.8439218873024286\r\n",
        "#\r\n",
        "y=algo_ml[\"LinearSVR\"].predict(test)\r\n",
        "yfinal=[]\r\n",
        "for i in y:\r\n",
        "  yfinal.append(i)\r\n"
      ],
      "execution_count": 171,
      "outputs": []
    },
    {
      "cell_type": "code",
      "metadata": {
        "id": "jAV5MJzVj4J0"
      },
      "source": [
        "copy_test=pd.read_csv('/content/drive/MyDrive/test.csv')\r\n",
        "copy_test[\"Sales\"]=ypredict\r\n",
        "\r\n"
      ],
      "execution_count": 228,
      "outputs": []
    },
    {
      "cell_type": "code",
      "metadata": {
        "id": "wP4yY_ILkppy"
      },
      "source": [
        ""
      ],
      "execution_count": 209,
      "outputs": []
    },
    {
      "cell_type": "code",
      "metadata": {
        "id": "BXqJAzlvlFVS"
      },
      "source": [
        "kaggle=pd.DataFrame(copy_test[[\"Id\",\"Sales\"]])"
      ],
      "execution_count": 229,
      "outputs": []
    },
    {
      "cell_type": "code",
      "metadata": {
        "id": "k165THsllI_j",
        "colab": {
          "base_uri": "https://localhost:8080/",
          "height": 407
        },
        "outputId": "d29b8e66-2398-42f4-86d3-a0dbcfd3a54f"
      },
      "source": [
        "kaggle"
      ],
      "execution_count": 230,
      "outputs": [
        {
          "output_type": "execute_result",
          "data": {
            "text/html": [
              "<div>\n",
              "<style scoped>\n",
              "    .dataframe tbody tr th:only-of-type {\n",
              "        vertical-align: middle;\n",
              "    }\n",
              "\n",
              "    .dataframe tbody tr th {\n",
              "        vertical-align: top;\n",
              "    }\n",
              "\n",
              "    .dataframe thead th {\n",
              "        text-align: right;\n",
              "    }\n",
              "</style>\n",
              "<table border=\"1\" class=\"dataframe\">\n",
              "  <thead>\n",
              "    <tr style=\"text-align: right;\">\n",
              "      <th></th>\n",
              "      <th>Id</th>\n",
              "      <th>Sales</th>\n",
              "    </tr>\n",
              "  </thead>\n",
              "  <tbody>\n",
              "    <tr>\n",
              "      <th>0</th>\n",
              "      <td>1</td>\n",
              "      <td>7621.194824</td>\n",
              "    </tr>\n",
              "    <tr>\n",
              "      <th>1</th>\n",
              "      <td>2</td>\n",
              "      <td>7619.971191</td>\n",
              "    </tr>\n",
              "    <tr>\n",
              "      <th>2</th>\n",
              "      <td>3</td>\n",
              "      <td>7617.532715</td>\n",
              "    </tr>\n",
              "    <tr>\n",
              "      <th>3</th>\n",
              "      <td>4</td>\n",
              "      <td>7616.917969</td>\n",
              "    </tr>\n",
              "    <tr>\n",
              "      <th>4</th>\n",
              "      <td>5</td>\n",
              "      <td>7616.303223</td>\n",
              "    </tr>\n",
              "    <tr>\n",
              "      <th>...</th>\n",
              "      <td>...</td>\n",
              "      <td>...</td>\n",
              "    </tr>\n",
              "    <tr>\n",
              "      <th>41083</th>\n",
              "      <td>41084</td>\n",
              "      <td>5215.398438</td>\n",
              "    </tr>\n",
              "    <tr>\n",
              "      <th>41084</th>\n",
              "      <td>41085</td>\n",
              "      <td>5214.782715</td>\n",
              "    </tr>\n",
              "    <tr>\n",
              "      <th>41085</th>\n",
              "      <td>41086</td>\n",
              "      <td>5214.168457</td>\n",
              "    </tr>\n",
              "    <tr>\n",
              "      <th>41086</th>\n",
              "      <td>41087</td>\n",
              "      <td>5213.553223</td>\n",
              "    </tr>\n",
              "    <tr>\n",
              "      <th>41087</th>\n",
              "      <td>41088</td>\n",
              "      <td>5248.117676</td>\n",
              "    </tr>\n",
              "  </tbody>\n",
              "</table>\n",
              "<p>41088 rows × 2 columns</p>\n",
              "</div>"
            ],
            "text/plain": [
              "          Id        Sales\n",
              "0          1  7621.194824\n",
              "1          2  7619.971191\n",
              "2          3  7617.532715\n",
              "3          4  7616.917969\n",
              "4          5  7616.303223\n",
              "...      ...          ...\n",
              "41083  41084  5215.398438\n",
              "41084  41085  5214.782715\n",
              "41085  41086  5214.168457\n",
              "41086  41087  5213.553223\n",
              "41087  41088  5248.117676\n",
              "\n",
              "[41088 rows x 2 columns]"
            ]
          },
          "metadata": {
            "tags": []
          },
          "execution_count": 230
        }
      ]
    },
    {
      "cell_type": "code",
      "metadata": {
        "id": "EZfsSTEClow-"
      },
      "source": [
        "kaggle.to_csv(\"resultat.csv\",index=False)"
      ],
      "execution_count": 234,
      "outputs": []
    },
    {
      "cell_type": "code",
      "metadata": {
        "id": "a7tcX8-Gluwh",
        "colab": {
          "base_uri": "https://localhost:8080/",
          "height": 407
        },
        "outputId": "8416c716-319c-4518-f9bf-1cb19ea2d0b8"
      },
      "source": [
        "kaggle"
      ],
      "execution_count": 233,
      "outputs": [
        {
          "output_type": "execute_result",
          "data": {
            "text/html": [
              "<div>\n",
              "<style scoped>\n",
              "    .dataframe tbody tr th:only-of-type {\n",
              "        vertical-align: middle;\n",
              "    }\n",
              "\n",
              "    .dataframe tbody tr th {\n",
              "        vertical-align: top;\n",
              "    }\n",
              "\n",
              "    .dataframe thead th {\n",
              "        text-align: right;\n",
              "    }\n",
              "</style>\n",
              "<table border=\"1\" class=\"dataframe\">\n",
              "  <thead>\n",
              "    <tr style=\"text-align: right;\">\n",
              "      <th></th>\n",
              "      <th>Id</th>\n",
              "      <th>Sales</th>\n",
              "    </tr>\n",
              "  </thead>\n",
              "  <tbody>\n",
              "    <tr>\n",
              "      <th>0</th>\n",
              "      <td>1</td>\n",
              "      <td>7621.194824</td>\n",
              "    </tr>\n",
              "    <tr>\n",
              "      <th>1</th>\n",
              "      <td>2</td>\n",
              "      <td>7619.971191</td>\n",
              "    </tr>\n",
              "    <tr>\n",
              "      <th>2</th>\n",
              "      <td>3</td>\n",
              "      <td>7617.532715</td>\n",
              "    </tr>\n",
              "    <tr>\n",
              "      <th>3</th>\n",
              "      <td>4</td>\n",
              "      <td>7616.917969</td>\n",
              "    </tr>\n",
              "    <tr>\n",
              "      <th>4</th>\n",
              "      <td>5</td>\n",
              "      <td>7616.303223</td>\n",
              "    </tr>\n",
              "    <tr>\n",
              "      <th>...</th>\n",
              "      <td>...</td>\n",
              "      <td>...</td>\n",
              "    </tr>\n",
              "    <tr>\n",
              "      <th>41083</th>\n",
              "      <td>41084</td>\n",
              "      <td>5215.398438</td>\n",
              "    </tr>\n",
              "    <tr>\n",
              "      <th>41084</th>\n",
              "      <td>41085</td>\n",
              "      <td>5214.782715</td>\n",
              "    </tr>\n",
              "    <tr>\n",
              "      <th>41085</th>\n",
              "      <td>41086</td>\n",
              "      <td>5214.168457</td>\n",
              "    </tr>\n",
              "    <tr>\n",
              "      <th>41086</th>\n",
              "      <td>41087</td>\n",
              "      <td>5213.553223</td>\n",
              "    </tr>\n",
              "    <tr>\n",
              "      <th>41087</th>\n",
              "      <td>41088</td>\n",
              "      <td>5248.117676</td>\n",
              "    </tr>\n",
              "  </tbody>\n",
              "</table>\n",
              "<p>41088 rows × 2 columns</p>\n",
              "</div>"
            ],
            "text/plain": [
              "          Id        Sales\n",
              "0          1  7621.194824\n",
              "1          2  7619.971191\n",
              "2          3  7617.532715\n",
              "3          4  7616.917969\n",
              "4          5  7616.303223\n",
              "...      ...          ...\n",
              "41083  41084  5215.398438\n",
              "41084  41085  5214.782715\n",
              "41085  41086  5214.168457\n",
              "41086  41087  5213.553223\n",
              "41087  41088  5248.117676\n",
              "\n",
              "[41088 rows x 2 columns]"
            ]
          },
          "metadata": {
            "tags": []
          },
          "execution_count": 233
        }
      ]
    },
    {
      "cell_type": "code",
      "metadata": {
        "id": "kODMmV1Rn1vz"
      },
      "source": [
        "\r\n"
      ],
      "execution_count": null,
      "outputs": []
    },
    {
      "cell_type": "code",
      "metadata": {
        "id": "d2nAGjmhDg8O"
      },
      "source": [
        ""
      ],
      "execution_count": null,
      "outputs": []
    },
    {
      "cell_type": "code",
      "metadata": {
        "id": "xg1Dq1GrDtrb"
      },
      "source": [
        ""
      ],
      "execution_count": null,
      "outputs": []
    },
    {
      "cell_type": "code",
      "metadata": {
        "id": "yLu-BzFHDyH-"
      },
      "source": [
        "\r\n"
      ],
      "execution_count": null,
      "outputs": []
    }
  ]
}